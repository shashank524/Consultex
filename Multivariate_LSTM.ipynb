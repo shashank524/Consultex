{
  "nbformat": 4,
  "nbformat_minor": 0,
  "metadata": {
    "colab": {
      "name": "Multivariate_LSTM.ipynb",
      "provenance": [],
      "collapsed_sections": []
    },
    "kernelspec": {
      "name": "python3",
      "display_name": "Python 3"
    },
    "language_info": {
      "name": "python"
    },
    "accelerator": "GPU"
  },
  "cells": [
    {
      "cell_type": "code",
      "metadata": {
        "colab": {
          "base_uri": "https://localhost:8080/"
        },
        "id": "ehZpeXbRiEC9",
        "outputId": "5228fc32-f300-4ed2-90d5-f909e228a09d"
      },
      "source": [
        "!sudo cp -r /content/drive/MyDrive/consultancy/ /content/\n",
        "%cd /content/consultancy/"
      ],
      "execution_count": null,
      "outputs": [
        {
          "output_type": "stream",
          "text": [
            "/content/consultancy\n"
          ],
          "name": "stdout"
        }
      ]
    },
    {
      "cell_type": "code",
      "metadata": {
        "colab": {
          "base_uri": "https://localhost:8080/"
        },
        "id": "9sznQ_bs8pXo",
        "outputId": "fea59afc-a1c2-4d09-a880-e83ac939c0cc"
      },
      "source": [
        "!pip install -U scikit-learn\n",
        "!pip install delayed"
      ],
      "execution_count": null,
      "outputs": [
        {
          "output_type": "stream",
          "text": [
            "Requirement already satisfied: scikit-learn in /usr/local/lib/python3.7/dist-packages (0.22.2.post1)\n",
            "Collecting scikit-learn\n",
            "  Downloading scikit_learn-0.24.2-cp37-cp37m-manylinux2010_x86_64.whl (22.3 MB)\n",
            "\u001b[K     |████████████████████████████████| 22.3 MB 70.7 MB/s \n",
            "\u001b[?25hRequirement already satisfied: scipy>=0.19.1 in /usr/local/lib/python3.7/dist-packages (from scikit-learn) (1.4.1)\n",
            "Collecting threadpoolctl>=2.0.0\n",
            "  Downloading threadpoolctl-2.2.0-py3-none-any.whl (12 kB)\n",
            "Requirement already satisfied: numpy>=1.13.3 in /usr/local/lib/python3.7/dist-packages (from scikit-learn) (1.19.5)\n",
            "Requirement already satisfied: joblib>=0.11 in /usr/local/lib/python3.7/dist-packages (from scikit-learn) (1.0.1)\n",
            "Installing collected packages: threadpoolctl, scikit-learn\n",
            "  Attempting uninstall: scikit-learn\n",
            "    Found existing installation: scikit-learn 0.22.2.post1\n",
            "    Uninstalling scikit-learn-0.22.2.post1:\n",
            "      Successfully uninstalled scikit-learn-0.22.2.post1\n",
            "Successfully installed scikit-learn-0.24.2 threadpoolctl-2.2.0\n",
            "Collecting delayed\n",
            "  Downloading delayed-0.11.0b1-py2.py3-none-any.whl (19 kB)\n",
            "Collecting hiredis\n",
            "  Downloading hiredis-2.0.0-cp37-cp37m-manylinux2010_x86_64.whl (85 kB)\n",
            "\u001b[K     |████████████████████████████████| 85 kB 3.4 MB/s \n",
            "\u001b[?25hCollecting redis\n",
            "  Downloading redis-3.5.3-py2.py3-none-any.whl (72 kB)\n",
            "\u001b[K     |████████████████████████████████| 72 kB 551 kB/s \n",
            "\u001b[?25hInstalling collected packages: redis, hiredis, delayed\n",
            "Successfully installed delayed-0.11.0b1 hiredis-2.0.0 redis-3.5.3\n"
          ],
          "name": "stdout"
        }
      ]
    },
    {
      "cell_type": "code",
      "metadata": {
        "id": "Gqti5ttAGUZm"
      },
      "source": [
        "import numpy as np\n",
        "from keras.models import Sequential\n",
        "from keras.layers import LSTM\n",
        "from keras.layers import Dense, Dropout\n",
        "import pandas as pd\n",
        "from matplotlib import pyplot as plt\n",
        "from sklearn.preprocessing import MinMaxScaler, StandardScaler\n",
        "import seaborn as sns"
      ],
      "execution_count": null,
      "outputs": []
    },
    {
      "cell_type": "code",
      "metadata": {
        "colab": {
          "base_uri": "https://localhost:8080/",
          "height": 452
        },
        "id": "EBe84zmIGY-2",
        "outputId": "4ef06897-02e6-4d2b-9a4b-d7e2f6c2200c"
      },
      "source": [
        "print(\"a => Nifty50\")\n",
        "print(\"b => BSE Sensex\")\n",
        "option = input(\"Select file\")\n",
        "if option==\"a\":\n",
        "  File = \"nifty_stock_data.csv\"\n",
        "elif option == \"b\":\n",
        "  File = \"BSE_stock_data.csv\"\n",
        "\n",
        "path = \"/content/consultancy/\" + File\n",
        "\n",
        "df = pd.read_csv(path, index_col=False)\n",
        "\n",
        "# df['Date'] = pd.to_datetime(df['Date'])\n",
        "# df.set_index('Date', inplace=True)\n",
        "# df.dropna(axis=0,inplace=True)\n",
        "df"
      ],
      "execution_count": null,
      "outputs": [
        {
          "output_type": "stream",
          "text": [
            "a => Nifty50\n",
            "b => BSE Sensex\n",
            "Select fileb\n"
          ],
          "name": "stdout"
        },
        {
          "output_type": "execute_result",
          "data": {
            "text/html": [
              "<div>\n",
              "<style scoped>\n",
              "    .dataframe tbody tr th:only-of-type {\n",
              "        vertical-align: middle;\n",
              "    }\n",
              "\n",
              "    .dataframe tbody tr th {\n",
              "        vertical-align: top;\n",
              "    }\n",
              "\n",
              "    .dataframe thead th {\n",
              "        text-align: right;\n",
              "    }\n",
              "</style>\n",
              "<table border=\"1\" class=\"dataframe\">\n",
              "  <thead>\n",
              "    <tr style=\"text-align: right;\">\n",
              "      <th></th>\n",
              "      <th>Date</th>\n",
              "      <th>Close</th>\n",
              "      <th>compound</th>\n",
              "      <th>negative</th>\n",
              "      <th>neutral</th>\n",
              "      <th>positive</th>\n",
              "      <th>Open</th>\n",
              "      <th>High</th>\n",
              "      <th>Low</th>\n",
              "      <th>monthly_return</th>\n",
              "      <th>yearly_return</th>\n",
              "    </tr>\n",
              "  </thead>\n",
              "  <tbody>\n",
              "    <tr>\n",
              "      <th>0</th>\n",
              "      <td>2007-01-02</td>\n",
              "      <td>13942.24</td>\n",
              "      <td>-0.9959</td>\n",
              "      <td>0.162</td>\n",
              "      <td>0.733</td>\n",
              "      <td>0.104</td>\n",
              "      <td>13827.77</td>\n",
              "      <td>13980.54</td>\n",
              "      <td>13797.44</td>\n",
              "      <td>2.964445</td>\n",
              "      <td>4.511829</td>\n",
              "    </tr>\n",
              "    <tr>\n",
              "      <th>1</th>\n",
              "      <td>2007-01-03</td>\n",
              "      <td>14014.92</td>\n",
              "      <td>-0.9942</td>\n",
              "      <td>0.126</td>\n",
              "      <td>0.804</td>\n",
              "      <td>0.070</td>\n",
              "      <td>13969.45</td>\n",
              "      <td>14035.67</td>\n",
              "      <td>13897.42</td>\n",
              "      <td>2.768335</td>\n",
              "      <td>1.986454</td>\n",
              "    </tr>\n",
              "    <tr>\n",
              "      <th>2</th>\n",
              "      <td>2007-01-04</td>\n",
              "      <td>13871.71</td>\n",
              "      <td>-0.9979</td>\n",
              "      <td>0.175</td>\n",
              "      <td>0.742</td>\n",
              "      <td>0.082</td>\n",
              "      <td>14029.04</td>\n",
              "      <td>14060.35</td>\n",
              "      <td>13850.38</td>\n",
              "      <td>2.751427</td>\n",
              "      <td>1.693158</td>\n",
              "    </tr>\n",
              "    <tr>\n",
              "      <th>3</th>\n",
              "      <td>2007-01-05</td>\n",
              "      <td>13860.52</td>\n",
              "      <td>-0.9978</td>\n",
              "      <td>0.133</td>\n",
              "      <td>0.815</td>\n",
              "      <td>0.052</td>\n",
              "      <td>13768.79</td>\n",
              "      <td>13971.82</td>\n",
              "      <td>13763.39</td>\n",
              "      <td>2.366217</td>\n",
              "      <td>2.594059</td>\n",
              "    </tr>\n",
              "    <tr>\n",
              "      <th>4</th>\n",
              "      <td>2007-01-08</td>\n",
              "      <td>13652.15</td>\n",
              "      <td>-0.9912</td>\n",
              "      <td>0.117</td>\n",
              "      <td>0.793</td>\n",
              "      <td>0.090</td>\n",
              "      <td>13855.89</td>\n",
              "      <td>13855.89</td>\n",
              "      <td>13599.87</td>\n",
              "      <td>2.704043</td>\n",
              "      <td>5.637720</td>\n",
              "    </tr>\n",
              "    <tr>\n",
              "      <th>...</th>\n",
              "      <td>...</td>\n",
              "      <td>...</td>\n",
              "      <td>...</td>\n",
              "      <td>...</td>\n",
              "      <td>...</td>\n",
              "      <td>...</td>\n",
              "      <td>...</td>\n",
              "      <td>...</td>\n",
              "      <td>...</td>\n",
              "      <td>...</td>\n",
              "      <td>...</td>\n",
              "    </tr>\n",
              "    <tr>\n",
              "      <th>3600</th>\n",
              "      <td>2021-07-15</td>\n",
              "      <td>53158.85</td>\n",
              "      <td>0.0000</td>\n",
              "      <td>0.000</td>\n",
              "      <td>1.000</td>\n",
              "      <td>0.000</td>\n",
              "      <td>52968.89</td>\n",
              "      <td>53266.12</td>\n",
              "      <td>52948.43</td>\n",
              "      <td>NaN</td>\n",
              "      <td>NaN</td>\n",
              "    </tr>\n",
              "    <tr>\n",
              "      <th>3601</th>\n",
              "      <td>2021-07-16</td>\n",
              "      <td>53140.06</td>\n",
              "      <td>0.2960</td>\n",
              "      <td>0.000</td>\n",
              "      <td>0.833</td>\n",
              "      <td>0.167</td>\n",
              "      <td>53244.40</td>\n",
              "      <td>53290.81</td>\n",
              "      <td>52997.09</td>\n",
              "      <td>NaN</td>\n",
              "      <td>NaN</td>\n",
              "    </tr>\n",
              "    <tr>\n",
              "      <th>3602</th>\n",
              "      <td>2021-07-19</td>\n",
              "      <td>52553.40</td>\n",
              "      <td>0.0000</td>\n",
              "      <td>0.000</td>\n",
              "      <td>1.000</td>\n",
              "      <td>0.000</td>\n",
              "      <td>52606.99</td>\n",
              "      <td>52821.17</td>\n",
              "      <td>52405.89</td>\n",
              "      <td>NaN</td>\n",
              "      <td>NaN</td>\n",
              "    </tr>\n",
              "    <tr>\n",
              "      <th>3603</th>\n",
              "      <td>2021-07-20</td>\n",
              "      <td>52198.51</td>\n",
              "      <td>0.5574</td>\n",
              "      <td>0.000</td>\n",
              "      <td>0.753</td>\n",
              "      <td>0.247</td>\n",
              "      <td>52432.88</td>\n",
              "      <td>52465.03</td>\n",
              "      <td>52013.51</td>\n",
              "      <td>NaN</td>\n",
              "      <td>NaN</td>\n",
              "    </tr>\n",
              "    <tr>\n",
              "      <th>3604</th>\n",
              "      <td>2021-07-22</td>\n",
              "      <td>52837.21</td>\n",
              "      <td>-0.1280</td>\n",
              "      <td>0.176</td>\n",
              "      <td>0.824</td>\n",
              "      <td>0.000</td>\n",
              "      <td>52494.56</td>\n",
              "      <td>52867.26</td>\n",
              "      <td>52471.23</td>\n",
              "      <td>NaN</td>\n",
              "      <td>NaN</td>\n",
              "    </tr>\n",
              "  </tbody>\n",
              "</table>\n",
              "<p>3605 rows × 11 columns</p>\n",
              "</div>"
            ],
            "text/plain": [
              "            Date     Close  compound  ...       Low  monthly_return  yearly_return\n",
              "0     2007-01-02  13942.24   -0.9959  ...  13797.44        2.964445       4.511829\n",
              "1     2007-01-03  14014.92   -0.9942  ...  13897.42        2.768335       1.986454\n",
              "2     2007-01-04  13871.71   -0.9979  ...  13850.38        2.751427       1.693158\n",
              "3     2007-01-05  13860.52   -0.9978  ...  13763.39        2.366217       2.594059\n",
              "4     2007-01-08  13652.15   -0.9912  ...  13599.87        2.704043       5.637720\n",
              "...          ...       ...       ...  ...       ...             ...            ...\n",
              "3600  2021-07-15  53158.85    0.0000  ...  52948.43             NaN            NaN\n",
              "3601  2021-07-16  53140.06    0.2960  ...  52997.09             NaN            NaN\n",
              "3602  2021-07-19  52553.40    0.0000  ...  52405.89             NaN            NaN\n",
              "3603  2021-07-20  52198.51    0.5574  ...  52013.51             NaN            NaN\n",
              "3604  2021-07-22  52837.21   -0.1280  ...  52471.23             NaN            NaN\n",
              "\n",
              "[3605 rows x 11 columns]"
            ]
          },
          "metadata": {
            "tags": []
          },
          "execution_count": 142
        }
      ]
    },
    {
      "cell_type": "code",
      "metadata": {
        "colab": {
          "base_uri": "https://localhost:8080/",
          "height": 500
        },
        "id": "l7zZanLkSUqq",
        "outputId": "e47e5c8b-19cc-4b98-b909-7823bcc1e4d5"
      },
      "source": [
        "df['monthly_return'].plot()"
      ],
      "execution_count": null,
      "outputs": [
        {
          "output_type": "execute_result",
          "data": {
            "text/plain": [
              "<matplotlib.axes._subplots.AxesSubplot at 0x7f057f987b90>"
            ]
          },
          "metadata": {
            "tags": []
          },
          "execution_count": 7
        },
        {
          "output_type": "display_data",
          "data": {
            "image/png": "[encoded data removed]",
            "text/plain": [
              "<Figure size 720x576 with 1 Axes>"
            ]
          },
          "metadata": {
            "tags": [],
            "needs_background": "light"
          }
        }
      ]
    },
    {
      "cell_type": "code",
      "metadata": {
        "colab": {
          "base_uri": "https://localhost:8080/",
          "height": 500
        },
        "id": "NXKTwymY0EKQ",
        "outputId": "6eb72b68-ef75-4183-fd48-782bc43e4b76"
      },
      "source": [
        "df['yearly_return'].plot()"
      ],
      "execution_count": null,
      "outputs": [
        {
          "output_type": "execute_result",
          "data": {
            "text/plain": [
              "<matplotlib.axes._subplots.AxesSubplot at 0x7f057f8fc610>"
            ]
          },
          "metadata": {
            "tags": []
          },
          "execution_count": 8
        },
        {
          "output_type": "display_data",
          "data": {
            "image/png": "[encoded data removed]",
            "text/plain": [
              "<Figure size 720x576 with 1 Axes>"
            ]
          },
          "metadata": {
            "tags": [],
            "needs_background": "light"
          }
        }
      ]
    },
    {
      "cell_type": "code",
      "metadata": {
        "colab": {
          "base_uri": "https://localhost:8080/"
        },
        "id": "XD8yohuUHdpI",
        "outputId": "5c9d1f1f-f1b9-4cf9-f468-8214075a895a"
      },
      "source": [
        "train_dates = pd.to_datetime(df['Date'])\n",
        "train_dates = train_dates[:-30]\n",
        "train_dates"
      ],
      "execution_count": null,
      "outputs": [
        {
          "output_type": "execute_result",
          "data": {
            "text/plain": [
              "0      2007-01-02\n",
              "1      2007-01-03\n",
              "2      2007-01-04\n",
              "3      2007-01-05\n",
              "4      2007-01-08\n",
              "          ...    \n",
              "3570   2021-06-03\n",
              "3571   2021-06-04\n",
              "3572   2021-06-07\n",
              "3573   2021-06-08\n",
              "3574   2021-06-09\n",
              "Name: Date, Length: 3575, dtype: datetime64[ns]"
            ]
          },
          "metadata": {
            "tags": []
          },
          "execution_count": 143
        }
      ]
    },
    {
      "cell_type": "code",
      "metadata": {
        "colab": {
          "base_uri": "https://localhost:8080/",
          "height": 402
        },
        "id": "V-aOUshIHS8J",
        "outputId": "2430b61c-cdd9-45cb-ee70-0ce284099e58"
      },
      "source": [
        "# For year\n",
        "\n",
        "# df_input=df[['Close', 'compound', 'negative', 'neutral', 'positive', 'Open', 'High', 'Low', 'yearly_return']]\n",
        "# df_input = df_input.dropna(axis=0)\n",
        "# df_pred_input=df[-365:][['Close', 'compound', 'negative', 'neutral', 'positive', 'Open', 'High', 'Low', 'monthly_return']]\n",
        "# df_input.tail()\n",
        "# For month\n",
        "\n",
        "df_for_training=df[['Close', 'compound', 'negative', 'neutral', 'positive', 'Open', 'High', 'Low', 'monthly_return']].astype(float)\n",
        "df_for_training = df_for_training.dropna(axis=0)\n",
        "# df_pred_input=df[-30:][['Close', 'compound', 'negative', 'neutral', 'positive', 'Open', 'High', 'Low']]\n",
        "df_for_training"
      ],
      "execution_count": null,
      "outputs": [
        {
          "output_type": "execute_result",
          "data": {
            "text/html": [
              "<div>\n",
              "<style scoped>\n",
              "    .dataframe tbody tr th:only-of-type {\n",
              "        vertical-align: middle;\n",
              "    }\n",
              "\n",
              "    .dataframe tbody tr th {\n",
              "        vertical-align: top;\n",
              "    }\n",
              "\n",
              "    .dataframe thead th {\n",
              "        text-align: right;\n",
              "    }\n",
              "</style>\n",
              "<table border=\"1\" class=\"dataframe\">\n",
              "  <thead>\n",
              "    <tr style=\"text-align: right;\">\n",
              "      <th></th>\n",
              "      <th>Close</th>\n",
              "      <th>compound</th>\n",
              "      <th>negative</th>\n",
              "      <th>neutral</th>\n",
              "      <th>positive</th>\n",
              "      <th>Open</th>\n",
              "      <th>High</th>\n",
              "      <th>Low</th>\n",
              "      <th>monthly_return</th>\n",
              "    </tr>\n",
              "  </thead>\n",
              "  <tbody>\n",
              "    <tr>\n",
              "      <th>0</th>\n",
              "      <td>13942.24</td>\n",
              "      <td>-0.9959</td>\n",
              "      <td>0.162</td>\n",
              "      <td>0.733</td>\n",
              "      <td>0.104</td>\n",
              "      <td>13827.77</td>\n",
              "      <td>13980.54</td>\n",
              "      <td>13797.44</td>\n",
              "      <td>2.964445</td>\n",
              "    </tr>\n",
              "    <tr>\n",
              "      <th>1</th>\n",
              "      <td>14014.92</td>\n",
              "      <td>-0.9942</td>\n",
              "      <td>0.126</td>\n",
              "      <td>0.804</td>\n",
              "      <td>0.070</td>\n",
              "      <td>13969.45</td>\n",
              "      <td>14035.67</td>\n",
              "      <td>13897.42</td>\n",
              "      <td>2.768335</td>\n",
              "    </tr>\n",
              "    <tr>\n",
              "      <th>2</th>\n",
              "      <td>13871.71</td>\n",
              "      <td>-0.9979</td>\n",
              "      <td>0.175</td>\n",
              "      <td>0.742</td>\n",
              "      <td>0.082</td>\n",
              "      <td>14029.04</td>\n",
              "      <td>14060.35</td>\n",
              "      <td>13850.38</td>\n",
              "      <td>2.751427</td>\n",
              "    </tr>\n",
              "    <tr>\n",
              "      <th>3</th>\n",
              "      <td>13860.52</td>\n",
              "      <td>-0.9978</td>\n",
              "      <td>0.133</td>\n",
              "      <td>0.815</td>\n",
              "      <td>0.052</td>\n",
              "      <td>13768.79</td>\n",
              "      <td>13971.82</td>\n",
              "      <td>13763.39</td>\n",
              "      <td>2.366217</td>\n",
              "    </tr>\n",
              "    <tr>\n",
              "      <th>4</th>\n",
              "      <td>13652.15</td>\n",
              "      <td>-0.9912</td>\n",
              "      <td>0.117</td>\n",
              "      <td>0.793</td>\n",
              "      <td>0.090</td>\n",
              "      <td>13855.89</td>\n",
              "      <td>13855.89</td>\n",
              "      <td>13599.87</td>\n",
              "      <td>2.704043</td>\n",
              "    </tr>\n",
              "    <tr>\n",
              "      <th>...</th>\n",
              "      <td>...</td>\n",
              "      <td>...</td>\n",
              "      <td>...</td>\n",
              "      <td>...</td>\n",
              "      <td>...</td>\n",
              "      <td>...</td>\n",
              "      <td>...</td>\n",
              "      <td>...</td>\n",
              "      <td>...</td>\n",
              "    </tr>\n",
              "    <tr>\n",
              "      <th>3570</th>\n",
              "      <td>52232.43</td>\n",
              "      <td>0.0000</td>\n",
              "      <td>0.000</td>\n",
              "      <td>1.000</td>\n",
              "      <td>0.000</td>\n",
              "      <td>52121.58</td>\n",
              "      <td>52273.23</td>\n",
              "      <td>51942.20</td>\n",
              "      <td>1.773649</td>\n",
              "    </tr>\n",
              "    <tr>\n",
              "      <th>3571</th>\n",
              "      <td>52100.05</td>\n",
              "      <td>0.0000</td>\n",
              "      <td>0.000</td>\n",
              "      <td>1.000</td>\n",
              "      <td>0.000</td>\n",
              "      <td>52367.52</td>\n",
              "      <td>52389.02</td>\n",
              "      <td>51952.70</td>\n",
              "      <td>1.996179</td>\n",
              "    </tr>\n",
              "    <tr>\n",
              "      <th>3572</th>\n",
              "      <td>52328.51</td>\n",
              "      <td>0.0772</td>\n",
              "      <td>0.000</td>\n",
              "      <td>0.843</td>\n",
              "      <td>0.157</td>\n",
              "      <td>52231.38</td>\n",
              "      <td>52378.69</td>\n",
              "      <td>52054.76</td>\n",
              "      <td>0.429766</td>\n",
              "    </tr>\n",
              "    <tr>\n",
              "      <th>3573</th>\n",
              "      <td>52275.57</td>\n",
              "      <td>-0.5106</td>\n",
              "      <td>0.398</td>\n",
              "      <td>0.602</td>\n",
              "      <td>0.000</td>\n",
              "      <td>52428.72</td>\n",
              "      <td>52432.43</td>\n",
              "      <td>52135.04</td>\n",
              "      <td>-0.147411</td>\n",
              "    </tr>\n",
              "    <tr>\n",
              "      <th>3574</th>\n",
              "      <td>51941.64</td>\n",
              "      <td>0.2960</td>\n",
              "      <td>0.000</td>\n",
              "      <td>0.820</td>\n",
              "      <td>0.180</td>\n",
              "      <td>52401.41</td>\n",
              "      <td>52446.92</td>\n",
              "      <td>51717.07</td>\n",
              "      <td>1.724185</td>\n",
              "    </tr>\n",
              "  </tbody>\n",
              "</table>\n",
              "<p>3575 rows × 9 columns</p>\n",
              "</div>"
            ],
            "text/plain": [
              "         Close  compound  negative  ...      High       Low  monthly_return\n",
              "0     13942.24   -0.9959     0.162  ...  13980.54  13797.44        2.964445\n",
              "1     14014.92   -0.9942     0.126  ...  14035.67  13897.42        2.768335\n",
              "2     13871.71   -0.9979     0.175  ...  14060.35  13850.38        2.751427\n",
              "3     13860.52   -0.9978     0.133  ...  13971.82  13763.39        2.366217\n",
              "4     13652.15   -0.9912     0.117  ...  13855.89  13599.87        2.704043\n",
              "...        ...       ...       ...  ...       ...       ...             ...\n",
              "3570  52232.43    0.0000     0.000  ...  52273.23  51942.20        1.773649\n",
              "3571  52100.05    0.0000     0.000  ...  52389.02  51952.70        1.996179\n",
              "3572  52328.51    0.0772     0.000  ...  52378.69  52054.76        0.429766\n",
              "3573  52275.57   -0.5106     0.398  ...  52432.43  52135.04       -0.147411\n",
              "3574  51941.64    0.2960     0.000  ...  52446.92  51717.07        1.724185\n",
              "\n",
              "[3575 rows x 9 columns]"
            ]
          },
          "metadata": {
            "tags": []
          },
          "execution_count": 144
        }
      ]
    },
    {
      "cell_type": "code",
      "metadata": {
        "id": "yRtpI2PcGgu4"
      },
      "source": [
        "scaler = MinMaxScaler()\n",
        "\n",
        "df_for_training_scaled = scaler.fit_transform(df_for_training)\n",
        "# df_pred_input = scaler.fit_transform(df_pred_input)\n",
        "# df_for_training_scaled=df_for_training.to_numpy()"
      ],
      "execution_count": null,
      "outputs": []
    },
    {
      "cell_type": "code",
      "metadata": {
        "colab": {
          "base_uri": "https://localhost:8080/"
        },
        "id": "zVWCiP_6JTxP",
        "outputId": "ed4a51b4-1146-49bf-d90d-bc8e9299e198"
      },
      "source": [
        "trainX = []\n",
        "trainY = []\n",
        "\n",
        "n_future = 1   # Number of days we want to predict into the future\n",
        "n_past = 30    # Number of past days we want to use to predict the future\n",
        "\n",
        "for i in range(n_past, len(df_for_training_scaled) - n_future +1):\n",
        "    trainX.append(df_for_training_scaled[i - n_past:i, 0:df_for_training.shape[1]])\n",
        "    trainY.append(df_for_training_scaled[i + n_future - 1:i + n_future, -1])\n",
        "\n",
        "trainX, trainY = np.array(trainX), np.array(trainY)\n",
        "\n",
        "print('trainX shape == {}.'.format(trainX.shape))\n",
        "print('trainY shape == {}.'.format(trainY.shape))"
      ],
      "execution_count": null,
      "outputs": [
        {
          "output_type": "stream",
          "text": [
            "trainX shape == (3545, 30, 9).\n",
            "trainY shape == (3545, 1).\n"
          ],
          "name": "stdout"
        }
      ]
    },
    {
      "cell_type": "code",
      "metadata": {
        "colab": {
          "base_uri": "https://localhost:8080/"
        },
        "id": "n36RS4twJz-w",
        "outputId": "541d3a13-3556-4aa1-ced9-739cc81c8606"
      },
      "source": [
        "trainY"
      ],
      "execution_count": null,
      "outputs": [
        {
          "output_type": "execute_result",
          "data": {
            "text/plain": [
              "array([[0.30423214],\n",
              "       [0.31410187],\n",
              "       [0.33692796],\n",
              "       ...,\n",
              "       [0.45585495],\n",
              "       [0.44945138],\n",
              "       [0.47021606]])"
            ]
          },
          "metadata": {
            "tags": []
          },
          "execution_count": 147
        }
      ]
    },
    {
      "cell_type": "code",
      "metadata": {
        "colab": {
          "base_uri": "https://localhost:8080/"
        },
        "id": "AX50JgFzKsTi",
        "outputId": "ccba49f8-e79e-4091-e967-25908c3be7c7"
      },
      "source": [
        "model = Sequential()\n",
        "model.add(LSTM(64, activation='relu', input_shape=(trainX.shape[1], trainX.shape[2]), return_sequences=True))\n",
        "model.add(LSTM(32, activation='relu', return_sequences=False))\n",
        "model.add(Dropout(0.2))\n",
        "model.add(Dense(trainY.shape[1]))\n",
        "\n",
        "model.compile(optimizer='adam', loss='mse')\n",
        "model.summary()"
      ],
      "execution_count": null,
      "outputs": [
        {
          "output_type": "stream",
          "text": [
            "WARNING:tensorflow:Layer lstm_18 will not use cuDNN kernels since it doesn't meet the criteria. It will use a generic GPU kernel as fallback when running on GPU.\n",
            "WARNING:tensorflow:Layer lstm_19 will not use cuDNN kernels since it doesn't meet the criteria. It will use a generic GPU kernel as fallback when running on GPU.\n",
            "Model: \"sequential_9\"\n",
            "_________________________________________________________________\n",
            "Layer (type)                 Output Shape              Param #   \n",
            "=================================================================\n",
            "lstm_18 (LSTM)               (None, 30, 64)            18944     \n",
            "_________________________________________________________________\n",
            "lstm_19 (LSTM)               (None, 32)                12416     \n",
            "_________________________________________________________________\n",
            "dropout_9 (Dropout)          (None, 32)                0         \n",
            "_________________________________________________________________\n",
            "dense_9 (Dense)              (None, 1)                 33        \n",
            "=================================================================\n",
            "Total params: 31,393\n",
            "Trainable params: 31,393\n",
            "Non-trainable params: 0\n",
            "_________________________________________________________________\n"
          ],
          "name": "stdout"
        }
      ]
    },
    {
      "cell_type": "code",
      "metadata": {
        "colab": {
          "base_uri": "https://localhost:8080/"
        },
        "id": "3RBiMmY8Kwkr",
        "outputId": "d8487306-dd9d-488a-90bb-9eb2639d84d4"
      },
      "source": [
        "history = model.fit(trainX, trainY, epochs=30, batch_size=16, validation_split=0.1, verbose=1)"
      ],
      "execution_count": null,
      "outputs": [
        {
          "output_type": "stream",
          "text": [
            "Epoch 1/30\n",
            "200/200 [==============================] - 22s 96ms/step - loss: 0.0411 - val_loss: 0.0065\n",
            "Epoch 2/30\n",
            "200/200 [==============================] - 18s 91ms/step - loss: 0.0069 - val_loss: 0.0048\n",
            "Epoch 3/30\n",
            "200/200 [==============================] - 19s 96ms/step - loss: 0.0054 - val_loss: 0.0039\n",
            "Epoch 4/30\n",
            "200/200 [==============================] - 19s 94ms/step - loss: 0.0048 - val_loss: 0.0047\n",
            "Epoch 5/30\n",
            "200/200 [==============================] - 18s 91ms/step - loss: 0.0038 - val_loss: 0.0061\n",
            "Epoch 6/30\n",
            "200/200 [==============================] - 18s 90ms/step - loss: 0.0034 - val_loss: 0.0039\n",
            "Epoch 7/30\n",
            "200/200 [==============================] - 19s 95ms/step - loss: 0.0030 - val_loss: 0.0058\n",
            "Epoch 8/30\n",
            "200/200 [==============================] - 18s 92ms/step - loss: 0.0030 - val_loss: 0.0035\n",
            "Epoch 9/30\n",
            "200/200 [==============================] - 19s 94ms/step - loss: 0.0025 - val_loss: 0.0048\n",
            "Epoch 10/30\n",
            "200/200 [==============================] - 18s 90ms/step - loss: 0.0024 - val_loss: 0.0043\n",
            "Epoch 11/30\n",
            "200/200 [==============================] - 18s 90ms/step - loss: 0.0022 - val_loss: 0.0042\n",
            "Epoch 12/30\n",
            "200/200 [==============================] - 19s 95ms/step - loss: 0.0018 - val_loss: 0.0046\n",
            "Epoch 13/30\n",
            "200/200 [==============================] - 19s 93ms/step - loss: 0.0017 - val_loss: 0.0043\n",
            "Epoch 14/30\n",
            "200/200 [==============================] - 18s 90ms/step - loss: 0.0018 - val_loss: 0.0053\n",
            "Epoch 15/30\n",
            "200/200 [==============================] - 18s 90ms/step - loss: 0.0015 - val_loss: 0.0027\n",
            "Epoch 16/30\n",
            "200/200 [==============================] - 19s 95ms/step - loss: 0.0015 - val_loss: 0.0027\n",
            "Epoch 17/30\n",
            "200/200 [==============================] - 18s 91ms/step - loss: 0.0013 - val_loss: 0.0032\n",
            "Epoch 18/30\n",
            "200/200 [==============================] - 18s 91ms/step - loss: 0.0014 - val_loss: 0.0021\n",
            "Epoch 19/30\n",
            "200/200 [==============================] - 19s 94ms/step - loss: 0.0013 - val_loss: 0.0022\n",
            "Epoch 20/30\n",
            "200/200 [==============================] - 19s 94ms/step - loss: 0.0013 - val_loss: 0.0023\n",
            "Epoch 21/30\n",
            "200/200 [==============================] - 18s 91ms/step - loss: 0.0013 - val_loss: 0.0026\n",
            "Epoch 22/30\n",
            "200/200 [==============================] - 18s 90ms/step - loss: 0.0012 - val_loss: 0.0025\n",
            "Epoch 23/30\n",
            "200/200 [==============================] - 19s 95ms/step - loss: 0.0012 - val_loss: 0.0018\n",
            "Epoch 24/30\n",
            "200/200 [==============================] - 18s 92ms/step - loss: 0.0010 - val_loss: 0.0017\n",
            "Epoch 25/30\n",
            "200/200 [==============================] - 18s 90ms/step - loss: 0.0010 - val_loss: 0.0025\n",
            "Epoch 26/30\n",
            "200/200 [==============================] - 18s 91ms/step - loss: 9.9119e-04 - val_loss: 0.0015\n",
            "Epoch 27/30\n",
            "200/200 [==============================] - 19s 94ms/step - loss: 9.1120e-04 - val_loss: 0.0021\n",
            "Epoch 28/30\n",
            "200/200 [==============================] - 19s 94ms/step - loss: 9.0343e-04 - val_loss: 0.0019\n",
            "Epoch 29/30\n",
            "200/200 [==============================] - 19s 93ms/step - loss: 8.2390e-04 - val_loss: 0.0018\n",
            "Epoch 30/30\n",
            "200/200 [==============================] - 18s 89ms/step - loss: 9.6199e-04 - val_loss: 0.0017\n"
          ],
          "name": "stdout"
        }
      ]
    },
    {
      "cell_type": "code",
      "metadata": {
        "colab": {
          "base_uri": "https://localhost:8080/",
          "height": 282
        },
        "id": "-Lcph4R1LS22",
        "outputId": "7f74562c-da8e-4bfa-a872-5e39d04f8099"
      },
      "source": [
        "plt.plot(history.history['loss'], label='Training loss')\n",
        "plt.plot(history.history['val_loss'], label='Validation loss')\n",
        "plt.legend()"
      ],
      "execution_count": null,
      "outputs": [
        {
          "output_type": "execute_result",
          "data": {
            "text/plain": [
              "<matplotlib.legend.Legend at 0x7f87ea136850>"
            ]
          },
          "metadata": {
            "tags": []
          },
          "execution_count": 150
        },
        {
          "output_type": "display_data",
          "data": {
            "image/png": "[encoded data removed]",
            "text/plain": [
              "<Figure size 432x288 with 1 Axes>"
            ]
          },
          "metadata": {
            "tags": [],
            "needs_background": "light"
          }
        }
      ]
    },
    {
      "cell_type": "code",
      "metadata": {
        "id": "_IShTGFdK0Hr"
      },
      "source": [
        "n_future=30  #Redefining n_future to extend prediction dates beyond original n_future dates...\n",
        "forecast_period_dates = pd.date_range(list(train_dates)[-1], periods=n_future, freq='1d').tolist()\n",
        "\n",
        "forecast = model.predict(trainX[-n_future:]) #forecast "
      ],
      "execution_count": null,
      "outputs": []
    },
    {
      "cell_type": "code",
      "metadata": {
        "colab": {
          "base_uri": "https://localhost:8080/"
        },
        "id": "RcTvvDX5K43o",
        "outputId": "89257563-d2c8-46c0-bab7-abeaded239a5"
      },
      "source": [
        "forecast_copies = np.repeat(forecast, df_for_training.shape[1], axis=-1)\n",
        "y_pred_future = scaler.inverse_transform(forecast_copies)[:,-1]\n",
        "y_pred_future"
      ],
      "execution_count": null,
      "outputs": [
        {
          "output_type": "execute_result",
          "data": {
            "text/plain": [
              "array([ 3.4921224 ,  3.836159  ,  1.3860453 ,  4.810951  ,  2.8723397 ,\n",
              "        4.911227  ,  2.9962432 ,  3.7789433 ,  4.319703  ,  4.265171  ,\n",
              "        1.8389883 ,  3.369017  ,  2.157243  ,  0.9368199 ,  3.1664698 ,\n",
              "        2.9584618 ,  1.454476  ,  1.5731305 ,  1.5877407 ,  1.0103061 ,\n",
              "       -0.7364845 , -0.65803427, -1.1572524 , -1.1749705 , -1.8399671 ,\n",
              "       -0.92674756, -0.8952036 , -1.0335048 , -2.2117333 , -1.4146138 ],\n",
              "      dtype=float32)"
            ]
          },
          "metadata": {
            "tags": []
          },
          "execution_count": 152
        }
      ]
    },
    {
      "cell_type": "code",
      "metadata": {
        "id": "ERfewFkYLASf"
      },
      "source": [
        "# Convert timestamp to date\n",
        "forecast_dates = []\n",
        "for time_i in forecast_period_dates:\n",
        "    forecast_dates.append(time_i.date())\n",
        "    \n",
        "df_forecast = pd.DataFrame({'Date':np.array(forecast_dates), 'monthly_return':y_pred_future})\n",
        "df_forecast['Date']=pd.to_datetime(df_forecast['Date'])"
      ],
      "execution_count": null,
      "outputs": []
    },
    {
      "cell_type": "code",
      "metadata": {
        "colab": {
          "base_uri": "https://localhost:8080/"
        },
        "id": "k6uhGzZMLFHb",
        "outputId": "9ccaf1ec-a9cc-49d2-e06a-b0331a022b1b"
      },
      "source": [
        "original = df[['Date', 'monthly_return']]\n",
        "original['Date']=pd.to_datetime(original['Date'])\n",
        "original = original.loc[original['Date'] >= '2020-01-16']"
      ],
      "execution_count": null,
      "outputs": [
        {
          "output_type": "stream",
          "text": [
            "/usr/local/lib/python3.7/dist-packages/ipykernel_launcher.py:2: SettingWithCopyWarning: \n",
            "A value is trying to be set on a copy of a slice from a DataFrame.\n",
            "Try using .loc[row_indexer,col_indexer] = value instead\n",
            "\n",
            "See the caveats in the documentation: https://pandas.pydata.org/pandas-docs/stable/user_guide/indexing.html#returning-a-view-versus-a-copy\n",
            "  \n"
          ],
          "name": "stderr"
        }
      ]
    },
    {
      "cell_type": "code",
      "metadata": {
        "colab": {
          "base_uri": "https://localhost:8080/",
          "height": 383
        },
        "id": "1gzFz2MiLIla",
        "outputId": "587ddbeb-1794-4008-a7cd-bde73c8a4d36"
      },
      "source": [
        "sns.lineplot(original['Date'], original['monthly_return'])\n",
        "sns.lineplot(df_forecast['Date'], df_forecast['monthly_return'])  "
      ],
      "execution_count": null,
      "outputs": [
        {
          "output_type": "stream",
          "text": [
            "/usr/local/lib/python3.7/dist-packages/seaborn/_decorators.py:43: FutureWarning: Pass the following variables as keyword args: x, y. From version 0.12, the only valid positional argument will be `data`, and passing other arguments without an explicit keyword will result in an error or misinterpretation.\n",
            "  FutureWarning\n",
            "/usr/local/lib/python3.7/dist-packages/seaborn/_decorators.py:43: FutureWarning: Pass the following variables as keyword args: x, y. From version 0.12, the only valid positional argument will be `data`, and passing other arguments without an explicit keyword will result in an error or misinterpretation.\n",
            "  FutureWarning\n"
          ],
          "name": "stderr"
        },
        {
          "output_type": "execute_result",
          "data": {
            "text/plain": [
              "<matplotlib.axes._subplots.AxesSubplot at 0x7f87ebf9dfd0>"
            ]
          },
          "metadata": {
            "tags": []
          },
          "execution_count": 155
        },
        {
          "output_type": "display_data",
          "data": {
            "image/png": "[encoded data removed]",
            "text/plain": [
              "<Figure size 432x288 with 1 Axes>"
            ]
          },
          "metadata": {
            "tags": [],
            "needs_background": "light"
          }
        }
      ]
    }
  ]
}