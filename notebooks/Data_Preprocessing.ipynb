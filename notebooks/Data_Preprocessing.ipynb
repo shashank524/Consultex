{
  "nbformat": 4,
  "nbformat_minor": 0,
  "metadata": {
    "colab": {
      "name": "Data_Preprocessing.ipynb",
      "provenance": [],
      "collapsed_sections": []
    },
    "kernelspec": {
      "name": "python3",
      "display_name": "Python 3"
    },
    "language_info": {
      "name": "python"
    }
  },
  "cells": [
    {
      "cell_type": "code",
      "metadata": {
        "id": "PWJ_hiG1Sg2E",
        "colab": {
          "base_uri": "https://localhost:8080/"
        },
        "outputId": "97ed6c36-af78-4a8a-9130-8c5ba42d72e8"
      },
      "source": [
        "from google.colab import drive\n",
        "drive.mount('/content/drive')"
      ],
      "execution_count": 1,
      "outputs": [
        {
          "output_type": "stream",
          "text": [
            "Mounted at /content/drive\n"
          ],
          "name": "stdout"
        }
      ]
    },
    {
      "cell_type": "code",
      "metadata": {
        "id": "G74hzmFulUGJ"
      },
      "source": [
        "# !sudo rm -r /content/consultancy/\n",
        "!sudo cp -r /content/drive/MyDrive/consultancy/ /content/"
      ],
      "execution_count": 2,
      "outputs": []
    },
    {
      "cell_type": "code",
      "metadata": {
        "colab": {
          "base_uri": "https://localhost:8080/"
        },
        "id": "IBCeP0llZJpQ",
        "outputId": "1c2b6fe9-5f6a-4b44-cb4b-b1e7a1a2ad37"
      },
      "source": [
        "%cd /content/consultancy/"
      ],
      "execution_count": 30,
      "outputs": [
        {
          "output_type": "stream",
          "text": [
            "/content/consultancy\n"
          ],
          "name": "stdout"
        }
      ]
    },
    {
      "cell_type": "markdown",
      "metadata": {
        "id": "wWkZ2qJqcU0W"
      },
      "source": [
        "# 1. Import Libraries"
      ]
    },
    {
      "cell_type": "code",
      "metadata": {
        "id": "zGFv-Z7TdMou"
      },
      "source": [
        "import warnings\n",
        "warnings.filterwarnings('ignore')\n",
        "\n",
        "import math\n",
        "import pandas as pd\n",
        "import numpy as np\n",
        "\n",
        "import matplotlib.pyplot as plt\n",
        "import seaborn as sns\n",
        "\n",
        "from keras.models import Sequential, load_model\n",
        "from keras.layers import Dense, LSTM, Dropout, Dense, Activation\n",
        "\n",
        "import nltk\n",
        "from nltk.classify import NaiveBayesClassifier\n",
        "from nltk.corpus import subjectivity\n",
        "from nltk.sentiment import SentimentAnalyzer\n",
        "from nltk.sentiment.util import *\n",
        "\n",
        "from sklearn import preprocessing, metrics\n",
        "from sklearn.preprocessing import MinMaxScaler"
      ],
      "execution_count": 31,
      "outputs": []
    },
    {
      "cell_type": "markdown",
      "metadata": {
        "id": "2FvhHKIgcg3t"
      },
      "source": [
        "# 2. Upload Datasets For Stock Data And News Headlines"
      ]
    },
    {
      "cell_type": "code",
      "metadata": {
        "id": "1-YEUtNLd4IZ"
      },
      "source": [
        "# stock_price = pd.read_csv('/content/consultancy/^BSESN.csv')\n",
        "stock_headlines = pd.read_csv('/content/consultancy/india-news-headlines.csv')"
      ],
      "execution_count": 32,
      "outputs": []
    },
    {
      "cell_type": "code",
      "metadata": {
        "id": "9hoVKAAm1oSd",
        "colab": {
          "base_uri": "https://localhost:8080/"
        },
        "outputId": "21b1d526-8ffc-4b5e-910f-9fc0002be5c5"
      },
      "source": [
        "print(\"a => Nifty50\")\n",
        "print(\"b => BSE Sensex\")\n",
        "option = input(\"Select file\")\n",
        "if option==\"a\":\n",
        "  File = \"^NSEI.csv\"\n",
        "elif option == \"b\":\n",
        "  File = \"BSE.csv\"\n",
        "\n",
        "path = \"/content/consultancy/\" + File\n",
        "\n",
        "stock_price = pd.read_csv(path, index_col=False)"
      ],
      "execution_count": 33,
      "outputs": [
        {
          "output_type": "stream",
          "text": [
            "a => Nifty50\n",
            "b => BSE Sensex\n",
            "Select fileb\n"
          ],
          "name": "stdout"
        }
      ]
    },
    {
      "cell_type": "markdown",
      "metadata": {
        "id": "zeDnE69EdSwQ"
      },
      "source": [
        "# 3. Data Cleaning"
      ]
    },
    {
      "cell_type": "code",
      "metadata": {
        "colab": {
          "base_uri": "https://localhost:8080/",
          "height": 204
        },
        "id": "n6W_Q6oleLgd",
        "outputId": "2cffa570-d7f2-48e5-c0e2-6b41b8423ecc"
      },
      "source": [
        "stock_price.tail()"
      ],
      "execution_count": 34,
      "outputs": [
        {
          "output_type": "execute_result",
          "data": {
            "text/html": [
              "<div>\n",
              "<style scoped>\n",
              "    .dataframe tbody tr th:only-of-type {\n",
              "        vertical-align: middle;\n",
              "    }\n",
              "\n",
              "    .dataframe tbody tr th {\n",
              "        vertical-align: top;\n",
              "    }\n",
              "\n",
              "    .dataframe thead th {\n",
              "        text-align: right;\n",
              "    }\n",
              "</style>\n",
              "<table border=\"1\" class=\"dataframe\">\n",
              "  <thead>\n",
              "    <tr style=\"text-align: right;\">\n",
              "      <th></th>\n",
              "      <th>Date</th>\n",
              "      <th>Open</th>\n",
              "      <th>High</th>\n",
              "      <th>Low</th>\n",
              "      <th>Close</th>\n",
              "    </tr>\n",
              "  </thead>\n",
              "  <tbody>\n",
              "    <tr>\n",
              "      <th>3601</th>\n",
              "      <td>16-July-2021</td>\n",
              "      <td>53244.40</td>\n",
              "      <td>53290.81</td>\n",
              "      <td>52997.09</td>\n",
              "      <td>53140.06</td>\n",
              "    </tr>\n",
              "    <tr>\n",
              "      <th>3602</th>\n",
              "      <td>19-July-2021</td>\n",
              "      <td>52606.99</td>\n",
              "      <td>52821.17</td>\n",
              "      <td>52405.89</td>\n",
              "      <td>52553.40</td>\n",
              "    </tr>\n",
              "    <tr>\n",
              "      <th>3603</th>\n",
              "      <td>20-July-2021</td>\n",
              "      <td>52432.88</td>\n",
              "      <td>52465.03</td>\n",
              "      <td>52013.51</td>\n",
              "      <td>52198.51</td>\n",
              "    </tr>\n",
              "    <tr>\n",
              "      <th>3604</th>\n",
              "      <td>22-July-2021</td>\n",
              "      <td>52494.56</td>\n",
              "      <td>52867.26</td>\n",
              "      <td>52471.23</td>\n",
              "      <td>52837.21</td>\n",
              "    </tr>\n",
              "    <tr>\n",
              "      <th>3605</th>\n",
              "      <td>23-July-2021</td>\n",
              "      <td>52967.87</td>\n",
              "      <td>53114.70</td>\n",
              "      <td>52653.77</td>\n",
              "      <td>52975.80</td>\n",
              "    </tr>\n",
              "  </tbody>\n",
              "</table>\n",
              "</div>"
            ],
            "text/plain": [
              "              Date      Open      High       Low     Close\n",
              "3601  16-July-2021  53244.40  53290.81  52997.09  53140.06\n",
              "3602  19-July-2021  52606.99  52821.17  52405.89  52553.40\n",
              "3603  20-July-2021  52432.88  52465.03  52013.51  52198.51\n",
              "3604  22-July-2021  52494.56  52867.26  52471.23  52837.21\n",
              "3605  23-July-2021  52967.87  53114.70  52653.77  52975.80"
            ]
          },
          "metadata": {
            "tags": []
          },
          "execution_count": 34
        }
      ]
    },
    {
      "cell_type": "code",
      "metadata": {
        "colab": {
          "base_uri": "https://localhost:8080/",
          "height": 204
        },
        "id": "594MXZiAeTlT",
        "outputId": "b135e4ac-5ec6-4d7d-d399-47977baefa6c"
      },
      "source": [
        "stock_headlines.tail()"
      ],
      "execution_count": 35,
      "outputs": [
        {
          "output_type": "execute_result",
          "data": {
            "text/html": [
              "<div>\n",
              "<style scoped>\n",
              "    .dataframe tbody tr th:only-of-type {\n",
              "        vertical-align: middle;\n",
              "    }\n",
              "\n",
              "    .dataframe tbody tr th {\n",
              "        vertical-align: top;\n",
              "    }\n",
              "\n",
              "    .dataframe thead th {\n",
              "        text-align: right;\n",
              "    }\n",
              "</style>\n",
              "<table border=\"1\" class=\"dataframe\">\n",
              "  <thead>\n",
              "    <tr style=\"text-align: right;\">\n",
              "      <th></th>\n",
              "      <th>publish_date</th>\n",
              "      <th>headline_category</th>\n",
              "      <th>headline_text</th>\n",
              "    </tr>\n",
              "  </thead>\n",
              "  <tbody>\n",
              "    <tr>\n",
              "      <th>3424062</th>\n",
              "      <td>20201231</td>\n",
              "      <td>city.jodhpur</td>\n",
              "      <td>Covid-19: Despite dip in cases; Rajasthan amon...</td>\n",
              "    </tr>\n",
              "    <tr>\n",
              "      <th>3424063</th>\n",
              "      <td>20201231</td>\n",
              "      <td>city.udaipur</td>\n",
              "      <td>Covid-19: Despite dip in cases; Rajasthan amon...</td>\n",
              "    </tr>\n",
              "    <tr>\n",
              "      <th>3424064</th>\n",
              "      <td>20201231</td>\n",
              "      <td>city.ajmer</td>\n",
              "      <td>Covid-19: Despite dip in cases; Rajasthan amon...</td>\n",
              "    </tr>\n",
              "    <tr>\n",
              "      <th>3424065</th>\n",
              "      <td>20201231</td>\n",
              "      <td>removed</td>\n",
              "      <td>Govt extends deadline for use of FASTag till F...</td>\n",
              "    </tr>\n",
              "    <tr>\n",
              "      <th>3424066</th>\n",
              "      <td>20201231</td>\n",
              "      <td>entertainment.bengali.movies.news</td>\n",
              "      <td>Celebs plan to party safely and responsibly on...</td>\n",
              "    </tr>\n",
              "  </tbody>\n",
              "</table>\n",
              "</div>"
            ],
            "text/plain": [
              "         publish_date  ...                                      headline_text\n",
              "3424062      20201231  ...  Covid-19: Despite dip in cases; Rajasthan amon...\n",
              "3424063      20201231  ...  Covid-19: Despite dip in cases; Rajasthan amon...\n",
              "3424064      20201231  ...  Covid-19: Despite dip in cases; Rajasthan amon...\n",
              "3424065      20201231  ...  Govt extends deadline for use of FASTag till F...\n",
              "3424066      20201231  ...  Celebs plan to party safely and responsibly on...\n",
              "\n",
              "[5 rows x 3 columns]"
            ]
          },
          "metadata": {
            "tags": []
          },
          "execution_count": 35
        }
      ]
    },
    {
      "cell_type": "code",
      "metadata": {
        "colab": {
          "base_uri": "https://localhost:8080/"
        },
        "id": "R7mO-b-4fUD0",
        "outputId": "086736b3-6f35-4a70-b8d1-c373ae355b1f"
      },
      "source": [
        "# displaying number of records in both stock_price and stock_headlines datasets\n",
        "len(stock_price), len(stock_headlines)"
      ],
      "execution_count": 38,
      "outputs": [
        {
          "output_type": "execute_result",
          "data": {
            "text/plain": [
              "(3606, 3424067)"
            ]
          },
          "metadata": {
            "tags": []
          },
          "execution_count": 38
        }
      ]
    },
    {
      "cell_type": "code",
      "metadata": {
        "colab": {
          "base_uri": "https://localhost:8080/"
        },
        "id": "KJqG-jCxfiBh",
        "outputId": "b576f6ba-aa85-488d-b022-e16cbc83c547"
      },
      "source": [
        "# checking for null values in both the datasets\n",
        "stock_price.isna().any(), stock_headlines.isna().any()"
      ],
      "execution_count": 39,
      "outputs": [
        {
          "output_type": "execute_result",
          "data": {
            "text/plain": [
              "(Date     False\n",
              " Open     False\n",
              " High     False\n",
              " Low      False\n",
              " Close    False\n",
              " dtype: bool, publish_date         False\n",
              " headline_category    False\n",
              " headline_text        False\n",
              " dtype: bool)"
            ]
          },
          "metadata": {
            "tags": []
          },
          "execution_count": 39
        }
      ]
    },
    {
      "cell_type": "markdown",
      "metadata": {
        "id": "mGe-ODMGdZDP"
      },
      "source": [
        "# 3.1. Numerical Stock Data"
      ]
    },
    {
      "cell_type": "code",
      "metadata": {
        "colab": {
          "base_uri": "https://localhost:8080/",
          "height": 450
        },
        "id": "49kCiU76gErp",
        "outputId": "0df6778d-d1ac-46b3-e3db-abe56f136dd5"
      },
      "source": [
        "# dropping duplicates\n",
        "stock_price = stock_price.drop_duplicates()\n",
        "\n",
        "# coverting the datatype of column 'Date' from type object to type 'datetime'\n",
        "stock_price['Date'] = pd.to_datetime(stock_price['Date']).dt.normalize()\n",
        "\n",
        "# filtering the important columns required\n",
        "stock_price = stock_price.filter(['Date', 'Close', 'Open', 'High', 'Low', 'Volume'])\n",
        "\n",
        "# setting column 'Date' as the index column\n",
        "stock_price.set_index('Date', inplace= True)\n",
        "\n",
        "# sorting the data according to the index i.e 'Date'\n",
        "stock_price = stock_price.sort_index(ascending=True, axis=0)\n",
        "stock_price"
      ],
      "execution_count": 40,
      "outputs": [
        {
          "output_type": "execute_result",
          "data": {
            "text/html": [
              "<div>\n",
              "<style scoped>\n",
              "    .dataframe tbody tr th:only-of-type {\n",
              "        vertical-align: middle;\n",
              "    }\n",
              "\n",
              "    .dataframe tbody tr th {\n",
              "        vertical-align: top;\n",
              "    }\n",
              "\n",
              "    .dataframe thead th {\n",
              "        text-align: right;\n",
              "    }\n",
              "</style>\n",
              "<table border=\"1\" class=\"dataframe\">\n",
              "  <thead>\n",
              "    <tr style=\"text-align: right;\">\n",
              "      <th></th>\n",
              "      <th>Close</th>\n",
              "      <th>Open</th>\n",
              "      <th>High</th>\n",
              "      <th>Low</th>\n",
              "    </tr>\n",
              "    <tr>\n",
              "      <th>Date</th>\n",
              "      <th></th>\n",
              "      <th></th>\n",
              "      <th></th>\n",
              "      <th></th>\n",
              "    </tr>\n",
              "  </thead>\n",
              "  <tbody>\n",
              "    <tr>\n",
              "      <th>2007-01-02</th>\n",
              "      <td>13942.24</td>\n",
              "      <td>13827.77</td>\n",
              "      <td>13980.54</td>\n",
              "      <td>13797.44</td>\n",
              "    </tr>\n",
              "    <tr>\n",
              "      <th>2007-01-03</th>\n",
              "      <td>14014.92</td>\n",
              "      <td>13969.45</td>\n",
              "      <td>14035.67</td>\n",
              "      <td>13897.42</td>\n",
              "    </tr>\n",
              "    <tr>\n",
              "      <th>2007-01-04</th>\n",
              "      <td>13871.71</td>\n",
              "      <td>14029.04</td>\n",
              "      <td>14060.35</td>\n",
              "      <td>13850.38</td>\n",
              "    </tr>\n",
              "    <tr>\n",
              "      <th>2007-01-05</th>\n",
              "      <td>13860.52</td>\n",
              "      <td>13768.79</td>\n",
              "      <td>13971.82</td>\n",
              "      <td>13763.39</td>\n",
              "    </tr>\n",
              "    <tr>\n",
              "      <th>2007-01-08</th>\n",
              "      <td>13652.15</td>\n",
              "      <td>13855.89</td>\n",
              "      <td>13855.89</td>\n",
              "      <td>13599.87</td>\n",
              "    </tr>\n",
              "    <tr>\n",
              "      <th>...</th>\n",
              "      <td>...</td>\n",
              "      <td>...</td>\n",
              "      <td>...</td>\n",
              "      <td>...</td>\n",
              "    </tr>\n",
              "    <tr>\n",
              "      <th>2021-07-16</th>\n",
              "      <td>53140.06</td>\n",
              "      <td>53244.40</td>\n",
              "      <td>53290.81</td>\n",
              "      <td>52997.09</td>\n",
              "    </tr>\n",
              "    <tr>\n",
              "      <th>2021-07-19</th>\n",
              "      <td>52553.40</td>\n",
              "      <td>52606.99</td>\n",
              "      <td>52821.17</td>\n",
              "      <td>52405.89</td>\n",
              "    </tr>\n",
              "    <tr>\n",
              "      <th>2021-07-20</th>\n",
              "      <td>52198.51</td>\n",
              "      <td>52432.88</td>\n",
              "      <td>52465.03</td>\n",
              "      <td>52013.51</td>\n",
              "    </tr>\n",
              "    <tr>\n",
              "      <th>2021-07-22</th>\n",
              "      <td>52837.21</td>\n",
              "      <td>52494.56</td>\n",
              "      <td>52867.26</td>\n",
              "      <td>52471.23</td>\n",
              "    </tr>\n",
              "    <tr>\n",
              "      <th>2021-07-23</th>\n",
              "      <td>52975.80</td>\n",
              "      <td>52967.87</td>\n",
              "      <td>53114.70</td>\n",
              "      <td>52653.77</td>\n",
              "    </tr>\n",
              "  </tbody>\n",
              "</table>\n",
              "<p>3606 rows × 4 columns</p>\n",
              "</div>"
            ],
            "text/plain": [
              "               Close      Open      High       Low\n",
              "Date                                              \n",
              "2007-01-02  13942.24  13827.77  13980.54  13797.44\n",
              "2007-01-03  14014.92  13969.45  14035.67  13897.42\n",
              "2007-01-04  13871.71  14029.04  14060.35  13850.38\n",
              "2007-01-05  13860.52  13768.79  13971.82  13763.39\n",
              "2007-01-08  13652.15  13855.89  13855.89  13599.87\n",
              "...              ...       ...       ...       ...\n",
              "2021-07-16  53140.06  53244.40  53290.81  52997.09\n",
              "2021-07-19  52553.40  52606.99  52821.17  52405.89\n",
              "2021-07-20  52198.51  52432.88  52465.03  52013.51\n",
              "2021-07-22  52837.21  52494.56  52867.26  52471.23\n",
              "2021-07-23  52975.80  52967.87  53114.70  52653.77\n",
              "\n",
              "[3606 rows x 4 columns]"
            ]
          },
          "metadata": {
            "tags": []
          },
          "execution_count": 40
        }
      ]
    },
    {
      "cell_type": "markdown",
      "metadata": {
        "id": "NKsvMgn0dj4I"
      },
      "source": [
        "# 3.2. Textual News Headlines Data"
      ]
    },
    {
      "cell_type": "code",
      "metadata": {
        "colab": {
          "base_uri": "https://localhost:8080/",
          "height": 450
        },
        "id": "B3DUYHspgNz4",
        "outputId": "40872609-6469-489b-d060-de010b898f7c"
      },
      "source": [
        "# dropping duplicates\n",
        "stock_headlines = stock_headlines.drop_duplicates()\n",
        "\n",
        "# coverting the datatype of column 'Date' from type string to type 'datetime'\n",
        "stock_headlines['publish_date'] = stock_headlines['publish_date'].astype(str)\n",
        "stock_headlines['publish_date'] = stock_headlines['publish_date'].apply(lambda x: x[0:4]+'-'+x[4:6]+'-'+x[6:8])\n",
        "stock_headlines['publish_date'] = pd.to_datetime(stock_headlines['publish_date']).dt.normalize()\n",
        "\n",
        "# filtering the important columns required\n",
        "stock_headlines = stock_headlines.filter(['publish_date', 'headline_text'])\n",
        "\n",
        "# grouping the news headlines according to 'Date'\n",
        "stock_headlines = stock_headlines.groupby(['publish_date'])['headline_text'].apply(lambda x: ','.join(x)).reset_index()\n",
        "\n",
        "# setting column 'Date' as the index column\n",
        "stock_headlines.set_index('publish_date', inplace= True)\n",
        "\n",
        "# sorting the data according to the index i.e 'Date'\n",
        "stock_headlines = stock_headlines.sort_index(ascending=True, axis=0)\n",
        "stock_headlines"
      ],
      "execution_count": 41,
      "outputs": [
        {
          "output_type": "execute_result",
          "data": {
            "text/html": [
              "<div>\n",
              "<style scoped>\n",
              "    .dataframe tbody tr th:only-of-type {\n",
              "        vertical-align: middle;\n",
              "    }\n",
              "\n",
              "    .dataframe tbody tr th {\n",
              "        vertical-align: top;\n",
              "    }\n",
              "\n",
              "    .dataframe thead th {\n",
              "        text-align: right;\n",
              "    }\n",
              "</style>\n",
              "<table border=\"1\" class=\"dataframe\">\n",
              "  <thead>\n",
              "    <tr style=\"text-align: right;\">\n",
              "      <th></th>\n",
              "      <th>headline_text</th>\n",
              "    </tr>\n",
              "    <tr>\n",
              "      <th>publish_date</th>\n",
              "      <th></th>\n",
              "    </tr>\n",
              "  </thead>\n",
              "  <tbody>\n",
              "    <tr>\n",
              "      <th>2001-01-02</th>\n",
              "      <td>Status quo will not be disturbed at Ayodhya; s...</td>\n",
              "    </tr>\n",
              "    <tr>\n",
              "      <th>2001-01-03</th>\n",
              "      <td>Powerless north India gropes in the dark,Think...</td>\n",
              "    </tr>\n",
              "    <tr>\n",
              "      <th>2001-01-04</th>\n",
              "      <td>The string that pulled Stephen Hawking to Indi...</td>\n",
              "    </tr>\n",
              "    <tr>\n",
              "      <th>2001-01-05</th>\n",
              "      <td>Light combat craft takes India into club class...</td>\n",
              "    </tr>\n",
              "    <tr>\n",
              "      <th>2001-01-06</th>\n",
              "      <td>Light combat craft takes India into club class...</td>\n",
              "    </tr>\n",
              "    <tr>\n",
              "      <th>...</th>\n",
              "      <td>...</td>\n",
              "    </tr>\n",
              "    <tr>\n",
              "      <th>2020-12-27</th>\n",
              "      <td>#BigInterview! Dhritiman Chatterjee: Nobody da...</td>\n",
              "    </tr>\n",
              "    <tr>\n",
              "      <th>2020-12-28</th>\n",
              "      <td>Horoscope Today; 28 December 2020: Check astro...</td>\n",
              "    </tr>\n",
              "    <tr>\n",
              "      <th>2020-12-29</th>\n",
              "      <td>Man recovers charred remains of 'thief' from h...</td>\n",
              "    </tr>\n",
              "    <tr>\n",
              "      <th>2020-12-30</th>\n",
              "      <td>Numerology Readings 30 December 2020: Predicti...</td>\n",
              "    </tr>\n",
              "    <tr>\n",
              "      <th>2020-12-31</th>\n",
              "      <td>Horoscope Today; 31 December 2020: Check astro...</td>\n",
              "    </tr>\n",
              "  </tbody>\n",
              "</table>\n",
              "<p>7262 rows × 1 columns</p>\n",
              "</div>"
            ],
            "text/plain": [
              "                                                  headline_text\n",
              "publish_date                                                   \n",
              "2001-01-02    Status quo will not be disturbed at Ayodhya; s...\n",
              "2001-01-03    Powerless north India gropes in the dark,Think...\n",
              "2001-01-04    The string that pulled Stephen Hawking to Indi...\n",
              "2001-01-05    Light combat craft takes India into club class...\n",
              "2001-01-06    Light combat craft takes India into club class...\n",
              "...                                                         ...\n",
              "2020-12-27    #BigInterview! Dhritiman Chatterjee: Nobody da...\n",
              "2020-12-28    Horoscope Today; 28 December 2020: Check astro...\n",
              "2020-12-29    Man recovers charred remains of 'thief' from h...\n",
              "2020-12-30    Numerology Readings 30 December 2020: Predicti...\n",
              "2020-12-31    Horoscope Today; 31 December 2020: Check astro...\n",
              "\n",
              "[7262 rows x 1 columns]"
            ]
          },
          "metadata": {
            "tags": []
          },
          "execution_count": 41
        }
      ]
    },
    {
      "cell_type": "markdown",
      "metadata": {
        "id": "LlnSX2S3Cx2y"
      },
      "source": [
        "# Appending new headlines"
      ]
    },
    {
      "cell_type": "code",
      "metadata": {
        "id": "cEaG8F3oEQpH"
      },
      "source": [
        "# !sudo rm new_headlines.csv"
      ],
      "execution_count": 42,
      "outputs": []
    },
    {
      "cell_type": "code",
      "metadata": {
        "colab": {
          "base_uri": "https://localhost:8080/",
          "height": 450
        },
        "id": "2bJpGmPXC6Uk",
        "outputId": "1339a1d7-a8a2-42e2-c683-04644d8304c4"
      },
      "source": [
        "df_new = pd.read_csv('new_headlines.csv')\n",
        "df_new = df_new.filter(['publish_date', 'headline_text'])\n",
        "df_new.set_index('publish_date', inplace= True)\n",
        "df_new"
      ],
      "execution_count": 43,
      "outputs": [
        {
          "output_type": "execute_result",
          "data": {
            "text/html": [
              "<div>\n",
              "<style scoped>\n",
              "    .dataframe tbody tr th:only-of-type {\n",
              "        vertical-align: middle;\n",
              "    }\n",
              "\n",
              "    .dataframe tbody tr th {\n",
              "        vertical-align: top;\n",
              "    }\n",
              "\n",
              "    .dataframe thead th {\n",
              "        text-align: right;\n",
              "    }\n",
              "</style>\n",
              "<table border=\"1\" class=\"dataframe\">\n",
              "  <thead>\n",
              "    <tr style=\"text-align: right;\">\n",
              "      <th></th>\n",
              "      <th>headline_text</th>\n",
              "    </tr>\n",
              "    <tr>\n",
              "      <th>publish_date</th>\n",
              "      <th></th>\n",
              "    </tr>\n",
              "  </thead>\n",
              "  <tbody>\n",
              "    <tr>\n",
              "      <th>2021-01-01</th>\n",
              "      <td>F&amp;O data hints Nifty in for a breather after l...</td>\n",
              "    </tr>\n",
              "    <tr>\n",
              "      <th>2021-01-02</th>\n",
              "      <td>Sebi fines Reliance Industries, Mukesh Ambani,...</td>\n",
              "    </tr>\n",
              "    <tr>\n",
              "      <th>2021-01-03</th>\n",
              "      <td>Five Indian cricketers isolated after apparent...</td>\n",
              "    </tr>\n",
              "    <tr>\n",
              "      <th>2021-01-04</th>\n",
              "      <td>Coworking firms opt for revenue share model to...</td>\n",
              "    </tr>\n",
              "    <tr>\n",
              "      <th>2021-01-05</th>\n",
              "      <td>Fiat Chrysler set to invest $400 million in it...</td>\n",
              "    </tr>\n",
              "    <tr>\n",
              "      <th>...</th>\n",
              "      <td>...</td>\n",
              "    </tr>\n",
              "    <tr>\n",
              "      <th>2021-07-18</th>\n",
              "      <td>Pawar meets PM Modi, red flags change in law t...</td>\n",
              "    </tr>\n",
              "    <tr>\n",
              "      <th>2021-07-19</th>\n",
              "      <td>BJP-RSS meet discusses coordination</td>\n",
              "    </tr>\n",
              "    <tr>\n",
              "      <th>2021-07-20</th>\n",
              "      <td>Supreme Court orders release of activist held ...</td>\n",
              "    </tr>\n",
              "    <tr>\n",
              "      <th>2021-07-21</th>\n",
              "      <td>SC weighs action against parties for not revea...</td>\n",
              "    </tr>\n",
              "    <tr>\n",
              "      <th>2021-07-22</th>\n",
              "      <td>Asian Paints’ June quarter show reflects deman...</td>\n",
              "    </tr>\n",
              "  </tbody>\n",
              "</table>\n",
              "<p>203 rows × 1 columns</p>\n",
              "</div>"
            ],
            "text/plain": [
              "                                                  headline_text\n",
              "publish_date                                                   \n",
              "2021-01-01    F&O data hints Nifty in for a breather after l...\n",
              "2021-01-02    Sebi fines Reliance Industries, Mukesh Ambani,...\n",
              "2021-01-03    Five Indian cricketers isolated after apparent...\n",
              "2021-01-04    Coworking firms opt for revenue share model to...\n",
              "2021-01-05    Fiat Chrysler set to invest $400 million in it...\n",
              "...                                                         ...\n",
              "2021-07-18    Pawar meets PM Modi, red flags change in law t...\n",
              "2021-07-19                  BJP-RSS meet discusses coordination\n",
              "2021-07-20    Supreme Court orders release of activist held ...\n",
              "2021-07-21    SC weighs action against parties for not revea...\n",
              "2021-07-22    Asian Paints’ June quarter show reflects deman...\n",
              "\n",
              "[203 rows x 1 columns]"
            ]
          },
          "metadata": {
            "tags": []
          },
          "execution_count": 43
        }
      ]
    },
    {
      "cell_type": "code",
      "metadata": {
        "id": "157cZUeYEexf"
      },
      "source": [
        "stock_headlines = pd.concat([stock_headlines, df_new])"
      ],
      "execution_count": 44,
      "outputs": []
    },
    {
      "cell_type": "code",
      "metadata": {
        "colab": {
          "base_uri": "https://localhost:8080/",
          "height": 450
        },
        "id": "-mR47-KME3yf",
        "outputId": "ed2aa65f-f003-44ce-c591-426e37910462"
      },
      "source": [
        "stock_headlines.index = pd.to_datetime(stock_headlines.index)\n",
        "stock_headlines"
      ],
      "execution_count": 45,
      "outputs": [
        {
          "output_type": "execute_result",
          "data": {
            "text/html": [
              "<div>\n",
              "<style scoped>\n",
              "    .dataframe tbody tr th:only-of-type {\n",
              "        vertical-align: middle;\n",
              "    }\n",
              "\n",
              "    .dataframe tbody tr th {\n",
              "        vertical-align: top;\n",
              "    }\n",
              "\n",
              "    .dataframe thead th {\n",
              "        text-align: right;\n",
              "    }\n",
              "</style>\n",
              "<table border=\"1\" class=\"dataframe\">\n",
              "  <thead>\n",
              "    <tr style=\"text-align: right;\">\n",
              "      <th></th>\n",
              "      <th>headline_text</th>\n",
              "    </tr>\n",
              "    <tr>\n",
              "      <th>publish_date</th>\n",
              "      <th></th>\n",
              "    </tr>\n",
              "  </thead>\n",
              "  <tbody>\n",
              "    <tr>\n",
              "      <th>2001-01-02</th>\n",
              "      <td>Status quo will not be disturbed at Ayodhya; s...</td>\n",
              "    </tr>\n",
              "    <tr>\n",
              "      <th>2001-01-03</th>\n",
              "      <td>Powerless north India gropes in the dark,Think...</td>\n",
              "    </tr>\n",
              "    <tr>\n",
              "      <th>2001-01-04</th>\n",
              "      <td>The string that pulled Stephen Hawking to Indi...</td>\n",
              "    </tr>\n",
              "    <tr>\n",
              "      <th>2001-01-05</th>\n",
              "      <td>Light combat craft takes India into club class...</td>\n",
              "    </tr>\n",
              "    <tr>\n",
              "      <th>2001-01-06</th>\n",
              "      <td>Light combat craft takes India into club class...</td>\n",
              "    </tr>\n",
              "    <tr>\n",
              "      <th>...</th>\n",
              "      <td>...</td>\n",
              "    </tr>\n",
              "    <tr>\n",
              "      <th>2021-07-18</th>\n",
              "      <td>Pawar meets PM Modi, red flags change in law t...</td>\n",
              "    </tr>\n",
              "    <tr>\n",
              "      <th>2021-07-19</th>\n",
              "      <td>BJP-RSS meet discusses coordination</td>\n",
              "    </tr>\n",
              "    <tr>\n",
              "      <th>2021-07-20</th>\n",
              "      <td>Supreme Court orders release of activist held ...</td>\n",
              "    </tr>\n",
              "    <tr>\n",
              "      <th>2021-07-21</th>\n",
              "      <td>SC weighs action against parties for not revea...</td>\n",
              "    </tr>\n",
              "    <tr>\n",
              "      <th>2021-07-22</th>\n",
              "      <td>Asian Paints’ June quarter show reflects deman...</td>\n",
              "    </tr>\n",
              "  </tbody>\n",
              "</table>\n",
              "<p>7465 rows × 1 columns</p>\n",
              "</div>"
            ],
            "text/plain": [
              "                                                  headline_text\n",
              "publish_date                                                   \n",
              "2001-01-02    Status quo will not be disturbed at Ayodhya; s...\n",
              "2001-01-03    Powerless north India gropes in the dark,Think...\n",
              "2001-01-04    The string that pulled Stephen Hawking to Indi...\n",
              "2001-01-05    Light combat craft takes India into club class...\n",
              "2001-01-06    Light combat craft takes India into club class...\n",
              "...                                                         ...\n",
              "2021-07-18    Pawar meets PM Modi, red flags change in law t...\n",
              "2021-07-19                  BJP-RSS meet discusses coordination\n",
              "2021-07-20    Supreme Court orders release of activist held ...\n",
              "2021-07-21    SC weighs action against parties for not revea...\n",
              "2021-07-22    Asian Paints’ June quarter show reflects deman...\n",
              "\n",
              "[7465 rows x 1 columns]"
            ]
          },
          "metadata": {
            "tags": []
          },
          "execution_count": 45
        }
      ]
    },
    {
      "cell_type": "code",
      "metadata": {
        "colab": {
          "base_uri": "https://localhost:8080/",
          "height": 390
        },
        "id": "tqjenQ8KI5v6",
        "outputId": "4da2456d-19d8-4b0e-9c50-5d280bd34936"
      },
      "source": [
        "stock_headlines[-150:-140]"
      ],
      "execution_count": 46,
      "outputs": [
        {
          "output_type": "execute_result",
          "data": {
            "text/html": [
              "<div>\n",
              "<style scoped>\n",
              "    .dataframe tbody tr th:only-of-type {\n",
              "        vertical-align: middle;\n",
              "    }\n",
              "\n",
              "    .dataframe tbody tr th {\n",
              "        vertical-align: top;\n",
              "    }\n",
              "\n",
              "    .dataframe thead th {\n",
              "        text-align: right;\n",
              "    }\n",
              "</style>\n",
              "<table border=\"1\" class=\"dataframe\">\n",
              "  <thead>\n",
              "    <tr style=\"text-align: right;\">\n",
              "      <th></th>\n",
              "      <th>headline_text</th>\n",
              "    </tr>\n",
              "    <tr>\n",
              "      <th>publish_date</th>\n",
              "      <th></th>\n",
              "    </tr>\n",
              "  </thead>\n",
              "  <tbody>\n",
              "    <tr>\n",
              "      <th>2021-02-23</th>\n",
              "      <td>Carlsberg’s probes reveal details of ‘potentia...</td>\n",
              "    </tr>\n",
              "    <tr>\n",
              "      <th>2021-02-24</th>\n",
              "      <td>Upward spiral of diesel and petrol prices like...</td>\n",
              "    </tr>\n",
              "    <tr>\n",
              "      <th>2021-02-25</th>\n",
              "      <td>Finance ministry to set up Working Group to re...</td>\n",
              "    </tr>\n",
              "    <tr>\n",
              "      <th>2021-02-26</th>\n",
              "      <td>China celebrates official end of extreme pover...</td>\n",
              "    </tr>\n",
              "    <tr>\n",
              "      <th>2021-02-27</th>\n",
              "      <td>US drops demand for 'safe harbour' in global t...</td>\n",
              "    </tr>\n",
              "    <tr>\n",
              "      <th>2021-02-28</th>\n",
              "      <td>Assam firm mistakenly shown as ‘Quippo’, staff...</td>\n",
              "    </tr>\n",
              "    <tr>\n",
              "      <th>2021-03-01</th>\n",
              "      <td>View: With an aim to boost the Indian market, ...</td>\n",
              "    </tr>\n",
              "    <tr>\n",
              "      <th>2021-03-02</th>\n",
              "      <td>Finance Minister: NSE glitch cost govt immensely</td>\n",
              "    </tr>\n",
              "    <tr>\n",
              "      <th>2021-03-03</th>\n",
              "      <td>Comorbidity list to qualify for a Covid jab to...</td>\n",
              "    </tr>\n",
              "    <tr>\n",
              "      <th>2021-03-04</th>\n",
              "      <td>Assam polls: A battle to live up to legacy of ...</td>\n",
              "    </tr>\n",
              "  </tbody>\n",
              "</table>\n",
              "</div>"
            ],
            "text/plain": [
              "                                                  headline_text\n",
              "publish_date                                                   \n",
              "2021-02-23    Carlsberg’s probes reveal details of ‘potentia...\n",
              "2021-02-24    Upward spiral of diesel and petrol prices like...\n",
              "2021-02-25    Finance ministry to set up Working Group to re...\n",
              "2021-02-26    China celebrates official end of extreme pover...\n",
              "2021-02-27    US drops demand for 'safe harbour' in global t...\n",
              "2021-02-28    Assam firm mistakenly shown as ‘Quippo’, staff...\n",
              "2021-03-01    View: With an aim to boost the Indian market, ...\n",
              "2021-03-02     Finance Minister: NSE glitch cost govt immensely\n",
              "2021-03-03    Comorbidity list to qualify for a Covid jab to...\n",
              "2021-03-04    Assam polls: A battle to live up to legacy of ..."
            ]
          },
          "metadata": {
            "tags": []
          },
          "execution_count": 46
        }
      ]
    },
    {
      "cell_type": "markdown",
      "metadata": {
        "id": "HkDuXjVFd_ih"
      },
      "source": [
        "# 4. Combine Stock Data"
      ]
    },
    {
      "cell_type": "code",
      "metadata": {
        "colab": {
          "base_uri": "https://localhost:8080/",
          "height": 419
        },
        "id": "pkdhvnuTjO5c",
        "outputId": "6979bc38-9c2f-40cb-989b-761fd0130471"
      },
      "source": [
        "# concatenating the datasets stock_price and stock_headlines\n",
        "stock_data = pd.concat([stock_price, stock_headlines], axis=1)\n",
        "\n",
        "# dropping the null values if any\n",
        "stock_data.dropna(axis=0, inplace=True)\n",
        "\n",
        "# displaying the combined stock_data\n",
        "stock_data\n"
      ],
      "execution_count": 47,
      "outputs": [
        {
          "output_type": "execute_result",
          "data": {
            "text/html": [
              "<div>\n",
              "<style scoped>\n",
              "    .dataframe tbody tr th:only-of-type {\n",
              "        vertical-align: middle;\n",
              "    }\n",
              "\n",
              "    .dataframe tbody tr th {\n",
              "        vertical-align: top;\n",
              "    }\n",
              "\n",
              "    .dataframe thead th {\n",
              "        text-align: right;\n",
              "    }\n",
              "</style>\n",
              "<table border=\"1\" class=\"dataframe\">\n",
              "  <thead>\n",
              "    <tr style=\"text-align: right;\">\n",
              "      <th></th>\n",
              "      <th>Close</th>\n",
              "      <th>Open</th>\n",
              "      <th>High</th>\n",
              "      <th>Low</th>\n",
              "      <th>headline_text</th>\n",
              "    </tr>\n",
              "  </thead>\n",
              "  <tbody>\n",
              "    <tr>\n",
              "      <th>2007-01-02</th>\n",
              "      <td>13942.24</td>\n",
              "      <td>13827.77</td>\n",
              "      <td>13980.54</td>\n",
              "      <td>13797.44</td>\n",
              "      <td>Q&amp;A: Innovation is the norm across sectors in ...</td>\n",
              "    </tr>\n",
              "    <tr>\n",
              "      <th>2007-01-03</th>\n",
              "      <td>14014.92</td>\n",
              "      <td>13969.45</td>\n",
              "      <td>14035.67</td>\n",
              "      <td>13897.42</td>\n",
              "      <td>Creating A Personal Sacred Space,Winter Musing...</td>\n",
              "    </tr>\n",
              "    <tr>\n",
              "      <th>2007-01-04</th>\n",
              "      <td>13871.71</td>\n",
              "      <td>14029.04</td>\n",
              "      <td>14060.35</td>\n",
              "      <td>13850.38</td>\n",
              "      <td>Marshal your thoughts for tranquillity,Elixir ...</td>\n",
              "    </tr>\n",
              "    <tr>\n",
              "      <th>2007-01-05</th>\n",
              "      <td>13860.52</td>\n",
              "      <td>13768.79</td>\n",
              "      <td>13971.82</td>\n",
              "      <td>13763.39</td>\n",
              "      <td>Red tape fails to bind Pak team,Zardari is pay...</td>\n",
              "    </tr>\n",
              "    <tr>\n",
              "      <th>2007-01-08</th>\n",
              "      <td>13652.15</td>\n",
              "      <td>13855.89</td>\n",
              "      <td>13855.89</td>\n",
              "      <td>13599.87</td>\n",
              "      <td>Asha Bhonsle to croon with Robbie Williams,Scr...</td>\n",
              "    </tr>\n",
              "    <tr>\n",
              "      <th>...</th>\n",
              "      <td>...</td>\n",
              "      <td>...</td>\n",
              "      <td>...</td>\n",
              "      <td>...</td>\n",
              "      <td>...</td>\n",
              "    </tr>\n",
              "    <tr>\n",
              "      <th>2021-07-15</th>\n",
              "      <td>53158.85</td>\n",
              "      <td>52968.89</td>\n",
              "      <td>53266.12</td>\n",
              "      <td>52948.43</td>\n",
              "      <td>Submarine building project: MDL’s extended und...</td>\n",
              "    </tr>\n",
              "    <tr>\n",
              "      <th>2021-07-16</th>\n",
              "      <td>53140.06</td>\n",
              "      <td>53244.40</td>\n",
              "      <td>53290.81</td>\n",
              "      <td>52997.09</td>\n",
              "      <td>In the run-up to up assembly elections: BJP le...</td>\n",
              "    </tr>\n",
              "    <tr>\n",
              "      <th>2021-07-19</th>\n",
              "      <td>52553.40</td>\n",
              "      <td>52606.99</td>\n",
              "      <td>52821.17</td>\n",
              "      <td>52405.89</td>\n",
              "      <td>BJP-RSS meet discusses coordination</td>\n",
              "    </tr>\n",
              "    <tr>\n",
              "      <th>2021-07-20</th>\n",
              "      <td>52198.51</td>\n",
              "      <td>52432.88</td>\n",
              "      <td>52465.03</td>\n",
              "      <td>52013.51</td>\n",
              "      <td>Supreme Court orders release of activist held ...</td>\n",
              "    </tr>\n",
              "    <tr>\n",
              "      <th>2021-07-22</th>\n",
              "      <td>52837.21</td>\n",
              "      <td>52494.56</td>\n",
              "      <td>52867.26</td>\n",
              "      <td>52471.23</td>\n",
              "      <td>Asian Paints’ June quarter show reflects deman...</td>\n",
              "    </tr>\n",
              "  </tbody>\n",
              "</table>\n",
              "<p>3605 rows × 5 columns</p>\n",
              "</div>"
            ],
            "text/plain": [
              "               Close  ...                                      headline_text\n",
              "2007-01-02  13942.24  ...  Q&A: Innovation is the norm across sectors in ...\n",
              "2007-01-03  14014.92  ...  Creating A Personal Sacred Space,Winter Musing...\n",
              "2007-01-04  13871.71  ...  Marshal your thoughts for tranquillity,Elixir ...\n",
              "2007-01-05  13860.52  ...  Red tape fails to bind Pak team,Zardari is pay...\n",
              "2007-01-08  13652.15  ...  Asha Bhonsle to croon with Robbie Williams,Scr...\n",
              "...              ...  ...                                                ...\n",
              "2021-07-15  53158.85  ...  Submarine building project: MDL’s extended und...\n",
              "2021-07-16  53140.06  ...  In the run-up to up assembly elections: BJP le...\n",
              "2021-07-19  52553.40  ...                BJP-RSS meet discusses coordination\n",
              "2021-07-20  52198.51  ...  Supreme Court orders release of activist held ...\n",
              "2021-07-22  52837.21  ...  Asian Paints’ June quarter show reflects deman...\n",
              "\n",
              "[3605 rows x 5 columns]"
            ]
          },
          "metadata": {
            "tags": []
          },
          "execution_count": 47
        }
      ]
    },
    {
      "cell_type": "code",
      "metadata": {
        "id": "l26uhclwjUao",
        "colab": {
          "base_uri": "https://localhost:8080/",
          "height": 419
        },
        "outputId": "8e009a8c-75d5-4e97-b8db-5bd951a0204c"
      },
      "source": [
        "#alternate way is to use merge funtion and inner join operation \n",
        "pd.merge(stock_price, stock_headlines, left_index=True, right_index=True, how='inner')"
      ],
      "execution_count": 48,
      "outputs": [
        {
          "output_type": "execute_result",
          "data": {
            "text/html": [
              "<div>\n",
              "<style scoped>\n",
              "    .dataframe tbody tr th:only-of-type {\n",
              "        vertical-align: middle;\n",
              "    }\n",
              "\n",
              "    .dataframe tbody tr th {\n",
              "        vertical-align: top;\n",
              "    }\n",
              "\n",
              "    .dataframe thead th {\n",
              "        text-align: right;\n",
              "    }\n",
              "</style>\n",
              "<table border=\"1\" class=\"dataframe\">\n",
              "  <thead>\n",
              "    <tr style=\"text-align: right;\">\n",
              "      <th></th>\n",
              "      <th>Close</th>\n",
              "      <th>Open</th>\n",
              "      <th>High</th>\n",
              "      <th>Low</th>\n",
              "      <th>headline_text</th>\n",
              "    </tr>\n",
              "  </thead>\n",
              "  <tbody>\n",
              "    <tr>\n",
              "      <th>2007-01-02</th>\n",
              "      <td>13942.24</td>\n",
              "      <td>13827.77</td>\n",
              "      <td>13980.54</td>\n",
              "      <td>13797.44</td>\n",
              "      <td>Q&amp;A: Innovation is the norm across sectors in ...</td>\n",
              "    </tr>\n",
              "    <tr>\n",
              "      <th>2007-01-03</th>\n",
              "      <td>14014.92</td>\n",
              "      <td>13969.45</td>\n",
              "      <td>14035.67</td>\n",
              "      <td>13897.42</td>\n",
              "      <td>Creating A Personal Sacred Space,Winter Musing...</td>\n",
              "    </tr>\n",
              "    <tr>\n",
              "      <th>2007-01-04</th>\n",
              "      <td>13871.71</td>\n",
              "      <td>14029.04</td>\n",
              "      <td>14060.35</td>\n",
              "      <td>13850.38</td>\n",
              "      <td>Marshal your thoughts for tranquillity,Elixir ...</td>\n",
              "    </tr>\n",
              "    <tr>\n",
              "      <th>2007-01-05</th>\n",
              "      <td>13860.52</td>\n",
              "      <td>13768.79</td>\n",
              "      <td>13971.82</td>\n",
              "      <td>13763.39</td>\n",
              "      <td>Red tape fails to bind Pak team,Zardari is pay...</td>\n",
              "    </tr>\n",
              "    <tr>\n",
              "      <th>2007-01-08</th>\n",
              "      <td>13652.15</td>\n",
              "      <td>13855.89</td>\n",
              "      <td>13855.89</td>\n",
              "      <td>13599.87</td>\n",
              "      <td>Asha Bhonsle to croon with Robbie Williams,Scr...</td>\n",
              "    </tr>\n",
              "    <tr>\n",
              "      <th>...</th>\n",
              "      <td>...</td>\n",
              "      <td>...</td>\n",
              "      <td>...</td>\n",
              "      <td>...</td>\n",
              "      <td>...</td>\n",
              "    </tr>\n",
              "    <tr>\n",
              "      <th>2021-07-15</th>\n",
              "      <td>53158.85</td>\n",
              "      <td>52968.89</td>\n",
              "      <td>53266.12</td>\n",
              "      <td>52948.43</td>\n",
              "      <td>Submarine building project: MDL’s extended und...</td>\n",
              "    </tr>\n",
              "    <tr>\n",
              "      <th>2021-07-16</th>\n",
              "      <td>53140.06</td>\n",
              "      <td>53244.40</td>\n",
              "      <td>53290.81</td>\n",
              "      <td>52997.09</td>\n",
              "      <td>In the run-up to up assembly elections: BJP le...</td>\n",
              "    </tr>\n",
              "    <tr>\n",
              "      <th>2021-07-19</th>\n",
              "      <td>52553.40</td>\n",
              "      <td>52606.99</td>\n",
              "      <td>52821.17</td>\n",
              "      <td>52405.89</td>\n",
              "      <td>BJP-RSS meet discusses coordination</td>\n",
              "    </tr>\n",
              "    <tr>\n",
              "      <th>2021-07-20</th>\n",
              "      <td>52198.51</td>\n",
              "      <td>52432.88</td>\n",
              "      <td>52465.03</td>\n",
              "      <td>52013.51</td>\n",
              "      <td>Supreme Court orders release of activist held ...</td>\n",
              "    </tr>\n",
              "    <tr>\n",
              "      <th>2021-07-22</th>\n",
              "      <td>52837.21</td>\n",
              "      <td>52494.56</td>\n",
              "      <td>52867.26</td>\n",
              "      <td>52471.23</td>\n",
              "      <td>Asian Paints’ June quarter show reflects deman...</td>\n",
              "    </tr>\n",
              "  </tbody>\n",
              "</table>\n",
              "<p>3605 rows × 5 columns</p>\n",
              "</div>"
            ],
            "text/plain": [
              "               Close  ...                                      headline_text\n",
              "2007-01-02  13942.24  ...  Q&A: Innovation is the norm across sectors in ...\n",
              "2007-01-03  14014.92  ...  Creating A Personal Sacred Space,Winter Musing...\n",
              "2007-01-04  13871.71  ...  Marshal your thoughts for tranquillity,Elixir ...\n",
              "2007-01-05  13860.52  ...  Red tape fails to bind Pak team,Zardari is pay...\n",
              "2007-01-08  13652.15  ...  Asha Bhonsle to croon with Robbie Williams,Scr...\n",
              "...              ...  ...                                                ...\n",
              "2021-07-15  53158.85  ...  Submarine building project: MDL’s extended und...\n",
              "2021-07-16  53140.06  ...  In the run-up to up assembly elections: BJP le...\n",
              "2021-07-19  52553.40  ...                BJP-RSS meet discusses coordination\n",
              "2021-07-20  52198.51  ...  Supreme Court orders release of activist held ...\n",
              "2021-07-22  52837.21  ...  Asian Paints’ June quarter show reflects deman...\n",
              "\n",
              "[3605 rows x 5 columns]"
            ]
          },
          "metadata": {
            "tags": []
          },
          "execution_count": 48
        }
      ]
    },
    {
      "cell_type": "markdown",
      "metadata": {
        "id": "NQHundSKeOvF"
      },
      "source": [
        "# 5. Sentiment Analysis"
      ]
    },
    {
      "cell_type": "code",
      "metadata": {
        "id": "gS6QOA_alVG6",
        "colab": {
          "base_uri": "https://localhost:8080/",
          "height": 204
        },
        "outputId": "e7cbe43a-6c1f-42d2-a2b9-09f14e5c6756"
      },
      "source": [
        "# adding empty sentiment columns to stock_data for later calculation\n",
        "stock_data['compound'] = ''\n",
        "stock_data['negative'] = ''\n",
        "stock_data['neutral'] = ''\n",
        "stock_data['positive'] = ''\n",
        "stock_data.head()"
      ],
      "execution_count": 49,
      "outputs": [
        {
          "output_type": "execute_result",
          "data": {
            "text/html": [
              "<div>\n",
              "<style scoped>\n",
              "    .dataframe tbody tr th:only-of-type {\n",
              "        vertical-align: middle;\n",
              "    }\n",
              "\n",
              "    .dataframe tbody tr th {\n",
              "        vertical-align: top;\n",
              "    }\n",
              "\n",
              "    .dataframe thead th {\n",
              "        text-align: right;\n",
              "    }\n",
              "</style>\n",
              "<table border=\"1\" class=\"dataframe\">\n",
              "  <thead>\n",
              "    <tr style=\"text-align: right;\">\n",
              "      <th></th>\n",
              "      <th>Close</th>\n",
              "      <th>Open</th>\n",
              "      <th>High</th>\n",
              "      <th>Low</th>\n",
              "      <th>headline_text</th>\n",
              "      <th>compound</th>\n",
              "      <th>negative</th>\n",
              "      <th>neutral</th>\n",
              "      <th>positive</th>\n",
              "    </tr>\n",
              "  </thead>\n",
              "  <tbody>\n",
              "    <tr>\n",
              "      <th>2007-01-02</th>\n",
              "      <td>13942.24</td>\n",
              "      <td>13827.77</td>\n",
              "      <td>13980.54</td>\n",
              "      <td>13797.44</td>\n",
              "      <td>Q&amp;A: Innovation is the norm across sectors in ...</td>\n",
              "      <td></td>\n",
              "      <td></td>\n",
              "      <td></td>\n",
              "      <td></td>\n",
              "    </tr>\n",
              "    <tr>\n",
              "      <th>2007-01-03</th>\n",
              "      <td>14014.92</td>\n",
              "      <td>13969.45</td>\n",
              "      <td>14035.67</td>\n",
              "      <td>13897.42</td>\n",
              "      <td>Creating A Personal Sacred Space,Winter Musing...</td>\n",
              "      <td></td>\n",
              "      <td></td>\n",
              "      <td></td>\n",
              "      <td></td>\n",
              "    </tr>\n",
              "    <tr>\n",
              "      <th>2007-01-04</th>\n",
              "      <td>13871.71</td>\n",
              "      <td>14029.04</td>\n",
              "      <td>14060.35</td>\n",
              "      <td>13850.38</td>\n",
              "      <td>Marshal your thoughts for tranquillity,Elixir ...</td>\n",
              "      <td></td>\n",
              "      <td></td>\n",
              "      <td></td>\n",
              "      <td></td>\n",
              "    </tr>\n",
              "    <tr>\n",
              "      <th>2007-01-05</th>\n",
              "      <td>13860.52</td>\n",
              "      <td>13768.79</td>\n",
              "      <td>13971.82</td>\n",
              "      <td>13763.39</td>\n",
              "      <td>Red tape fails to bind Pak team,Zardari is pay...</td>\n",
              "      <td></td>\n",
              "      <td></td>\n",
              "      <td></td>\n",
              "      <td></td>\n",
              "    </tr>\n",
              "    <tr>\n",
              "      <th>2007-01-08</th>\n",
              "      <td>13652.15</td>\n",
              "      <td>13855.89</td>\n",
              "      <td>13855.89</td>\n",
              "      <td>13599.87</td>\n",
              "      <td>Asha Bhonsle to croon with Robbie Williams,Scr...</td>\n",
              "      <td></td>\n",
              "      <td></td>\n",
              "      <td></td>\n",
              "      <td></td>\n",
              "    </tr>\n",
              "  </tbody>\n",
              "</table>\n",
              "</div>"
            ],
            "text/plain": [
              "               Close      Open      High  ...  negative neutral positive\n",
              "2007-01-02  13942.24  13827.77  13980.54  ...                           \n",
              "2007-01-03  14014.92  13969.45  14035.67  ...                           \n",
              "2007-01-04  13871.71  14029.04  14060.35  ...                           \n",
              "2007-01-05  13860.52  13768.79  13971.82  ...                           \n",
              "2007-01-08  13652.15  13855.89  13855.89  ...                           \n",
              "\n",
              "[5 rows x 9 columns]"
            ]
          },
          "metadata": {
            "tags": []
          },
          "execution_count": 49
        }
      ]
    },
    {
      "cell_type": "code",
      "metadata": {
        "colab": {
          "base_uri": "https://localhost:8080/"
        },
        "id": "OLCrUazHm-7H",
        "outputId": "5922202a-9514-467e-f2cf-25415f3dd4cb"
      },
      "source": [
        " import nltk\n",
        " nltk.download('vader_lexicon')"
      ],
      "execution_count": 50,
      "outputs": [
        {
          "output_type": "stream",
          "text": [
            "[nltk_data] Downloading package vader_lexicon to /root/nltk_data...\n",
            "[nltk_data]   Package vader_lexicon is already up-to-date!\n"
          ],
          "name": "stdout"
        },
        {
          "output_type": "execute_result",
          "data": {
            "text/plain": [
              "True"
            ]
          },
          "metadata": {
            "tags": []
          },
          "execution_count": 50
        }
      ]
    },
    {
      "cell_type": "code",
      "metadata": {
        "colab": {
          "base_uri": "https://localhost:8080/",
          "height": 204
        },
        "id": "UqP0QsP9mjU8",
        "outputId": "a440d9ca-082c-42c4-8253-e8ca40df7ecd"
      },
      "source": [
        "from nltk.sentiment.vader import SentimentIntensityAnalyzer\n",
        "import unicodedata\n",
        "\n",
        "# instantiating the Sentiment Analyzer\n",
        "sid = SentimentIntensityAnalyzer()\n",
        "\n",
        "# calculating sentiment scores\n",
        "stock_data['compound'] = stock_data['headline_text'].apply(lambda x: sid.polarity_scores(x)['compound'])\n",
        "stock_data['negative'] = stock_data['headline_text'].apply(lambda x: sid.polarity_scores(x)['neg'])\n",
        "stock_data['neutral'] = stock_data['headline_text'].apply(lambda x: sid.polarity_scores(x)['neu'])\n",
        "stock_data['positive'] = stock_data['headline_text'].apply(lambda x: sid.polarity_scores(x)['pos']) \n",
        "\n",
        "# displaying the stock data\n",
        "stock_data.head()"
      ],
      "execution_count": 51,
      "outputs": [
        {
          "output_type": "execute_result",
          "data": {
            "text/html": [
              "<div>\n",
              "<style scoped>\n",
              "    .dataframe tbody tr th:only-of-type {\n",
              "        vertical-align: middle;\n",
              "    }\n",
              "\n",
              "    .dataframe tbody tr th {\n",
              "        vertical-align: top;\n",
              "    }\n",
              "\n",
              "    .dataframe thead th {\n",
              "        text-align: right;\n",
              "    }\n",
              "</style>\n",
              "<table border=\"1\" class=\"dataframe\">\n",
              "  <thead>\n",
              "    <tr style=\"text-align: right;\">\n",
              "      <th></th>\n",
              "      <th>Close</th>\n",
              "      <th>Open</th>\n",
              "      <th>High</th>\n",
              "      <th>Low</th>\n",
              "      <th>headline_text</th>\n",
              "      <th>compound</th>\n",
              "      <th>negative</th>\n",
              "      <th>neutral</th>\n",
              "      <th>positive</th>\n",
              "    </tr>\n",
              "  </thead>\n",
              "  <tbody>\n",
              "    <tr>\n",
              "      <th>2007-01-02</th>\n",
              "      <td>13942.24</td>\n",
              "      <td>13827.77</td>\n",
              "      <td>13980.54</td>\n",
              "      <td>13797.44</td>\n",
              "      <td>Q&amp;A: Innovation is the norm across sectors in ...</td>\n",
              "      <td>-0.9959</td>\n",
              "      <td>0.162</td>\n",
              "      <td>0.733</td>\n",
              "      <td>0.104</td>\n",
              "    </tr>\n",
              "    <tr>\n",
              "      <th>2007-01-03</th>\n",
              "      <td>14014.92</td>\n",
              "      <td>13969.45</td>\n",
              "      <td>14035.67</td>\n",
              "      <td>13897.42</td>\n",
              "      <td>Creating A Personal Sacred Space,Winter Musing...</td>\n",
              "      <td>-0.9942</td>\n",
              "      <td>0.126</td>\n",
              "      <td>0.804</td>\n",
              "      <td>0.070</td>\n",
              "    </tr>\n",
              "    <tr>\n",
              "      <th>2007-01-04</th>\n",
              "      <td>13871.71</td>\n",
              "      <td>14029.04</td>\n",
              "      <td>14060.35</td>\n",
              "      <td>13850.38</td>\n",
              "      <td>Marshal your thoughts for tranquillity,Elixir ...</td>\n",
              "      <td>-0.9979</td>\n",
              "      <td>0.175</td>\n",
              "      <td>0.742</td>\n",
              "      <td>0.082</td>\n",
              "    </tr>\n",
              "    <tr>\n",
              "      <th>2007-01-05</th>\n",
              "      <td>13860.52</td>\n",
              "      <td>13768.79</td>\n",
              "      <td>13971.82</td>\n",
              "      <td>13763.39</td>\n",
              "      <td>Red tape fails to bind Pak team,Zardari is pay...</td>\n",
              "      <td>-0.9978</td>\n",
              "      <td>0.133</td>\n",
              "      <td>0.815</td>\n",
              "      <td>0.052</td>\n",
              "    </tr>\n",
              "    <tr>\n",
              "      <th>2007-01-08</th>\n",
              "      <td>13652.15</td>\n",
              "      <td>13855.89</td>\n",
              "      <td>13855.89</td>\n",
              "      <td>13599.87</td>\n",
              "      <td>Asha Bhonsle to croon with Robbie Williams,Scr...</td>\n",
              "      <td>-0.9912</td>\n",
              "      <td>0.117</td>\n",
              "      <td>0.793</td>\n",
              "      <td>0.090</td>\n",
              "    </tr>\n",
              "  </tbody>\n",
              "</table>\n",
              "</div>"
            ],
            "text/plain": [
              "               Close      Open      High  ...  negative neutral  positive\n",
              "2007-01-02  13942.24  13827.77  13980.54  ...     0.162   0.733     0.104\n",
              "2007-01-03  14014.92  13969.45  14035.67  ...     0.126   0.804     0.070\n",
              "2007-01-04  13871.71  14029.04  14060.35  ...     0.175   0.742     0.082\n",
              "2007-01-05  13860.52  13768.79  13971.82  ...     0.133   0.815     0.052\n",
              "2007-01-08  13652.15  13855.89  13855.89  ...     0.117   0.793     0.090\n",
              "\n",
              "[5 rows x 9 columns]"
            ]
          },
          "metadata": {
            "tags": []
          },
          "execution_count": 51
        }
      ]
    },
    {
      "cell_type": "code",
      "metadata": {
        "id": "9GcMEMyt0PHK"
      },
      "source": [
        "# dropping the 'headline_text' which is unwanted now\n",
        "stock_data.drop(['headline_text'], inplace=True, axis=1)\n",
        "\n",
        "# rearranging the columns of the whole stock_data\n",
        "# stock_data = stock_data[['Close', 'compound', 'negative', 'neutral', 'positive', 'Open', 'High', 'Low', 'Volume']]\n",
        "if option==\"a\":\n",
        "  stock_data = stock_data[['Close', 'compound', 'negative', 'neutral', 'positive', 'Open', 'High', 'Low', 'Volume']]\n",
        "elif option==\"b\":\n",
        "  stock_data = stock_data[['Close', 'compound', 'negative', 'neutral', 'positive', 'Open', 'High', 'Low']]\n",
        "# set the index name\n",
        "stock_data.index.name = 'Date'\n",
        "\n",
        "# displaying the final stock_data\n",
        "stock_data.head()"
      ],
      "execution_count": null,
      "outputs": []
    },
    {
      "cell_type": "markdown",
      "metadata": {
        "id": "RMCy1WNcpn4q"
      },
      "source": [
        "#### Adding Returns Column"
      ]
    },
    {
      "cell_type": "code",
      "metadata": {
        "id": "SvL3N766sVfv",
        "colab": {
          "base_uri": "https://localhost:8080/",
          "height": 450
        },
        "outputId": "45de4567-cc2c-4db3-9f91-7c8dbed91ee1"
      },
      "source": [
        "stock_data['monthly_return'] = ((stock_data['Close'].shift(-30) - stock_data['Close'])/stock_data['Close'])*100\n",
        "stock_data['yearly_return'] = ((stock_data['Close'].shift(-365)-stock_data['Close'])/stock_data['Close'])*100\n",
        "\n",
        "stock_data"
      ],
      "execution_count": 57,
      "outputs": [
        {
          "output_type": "execute_result",
          "data": {
            "text/html": [
              "<div>\n",
              "<style scoped>\n",
              "    .dataframe tbody tr th:only-of-type {\n",
              "        vertical-align: middle;\n",
              "    }\n",
              "\n",
              "    .dataframe tbody tr th {\n",
              "        vertical-align: top;\n",
              "    }\n",
              "\n",
              "    .dataframe thead th {\n",
              "        text-align: right;\n",
              "    }\n",
              "</style>\n",
              "<table border=\"1\" class=\"dataframe\">\n",
              "  <thead>\n",
              "    <tr style=\"text-align: right;\">\n",
              "      <th></th>\n",
              "      <th>Close</th>\n",
              "      <th>compound</th>\n",
              "      <th>negative</th>\n",
              "      <th>neutral</th>\n",
              "      <th>positive</th>\n",
              "      <th>Open</th>\n",
              "      <th>High</th>\n",
              "      <th>Low</th>\n",
              "      <th>monthly_return</th>\n",
              "      <th>yearly_return</th>\n",
              "    </tr>\n",
              "    <tr>\n",
              "      <th>Date</th>\n",
              "      <th></th>\n",
              "      <th></th>\n",
              "      <th></th>\n",
              "      <th></th>\n",
              "      <th></th>\n",
              "      <th></th>\n",
              "      <th></th>\n",
              "      <th></th>\n",
              "      <th></th>\n",
              "      <th></th>\n",
              "    </tr>\n",
              "  </thead>\n",
              "  <tbody>\n",
              "    <tr>\n",
              "      <th>2007-01-02</th>\n",
              "      <td>13942.24</td>\n",
              "      <td>-0.9959</td>\n",
              "      <td>0.162</td>\n",
              "      <td>0.733</td>\n",
              "      <td>0.104</td>\n",
              "      <td>13827.77</td>\n",
              "      <td>13980.54</td>\n",
              "      <td>13797.44</td>\n",
              "      <td>2.964445</td>\n",
              "      <td>4.511829</td>\n",
              "    </tr>\n",
              "    <tr>\n",
              "      <th>2007-01-03</th>\n",
              "      <td>14014.92</td>\n",
              "      <td>-0.9942</td>\n",
              "      <td>0.126</td>\n",
              "      <td>0.804</td>\n",
              "      <td>0.070</td>\n",
              "      <td>13969.45</td>\n",
              "      <td>14035.67</td>\n",
              "      <td>13897.42</td>\n",
              "      <td>2.768335</td>\n",
              "      <td>1.986454</td>\n",
              "    </tr>\n",
              "    <tr>\n",
              "      <th>2007-01-04</th>\n",
              "      <td>13871.71</td>\n",
              "      <td>-0.9979</td>\n",
              "      <td>0.175</td>\n",
              "      <td>0.742</td>\n",
              "      <td>0.082</td>\n",
              "      <td>14029.04</td>\n",
              "      <td>14060.35</td>\n",
              "      <td>13850.38</td>\n",
              "      <td>2.751427</td>\n",
              "      <td>1.693158</td>\n",
              "    </tr>\n",
              "    <tr>\n",
              "      <th>2007-01-05</th>\n",
              "      <td>13860.52</td>\n",
              "      <td>-0.9978</td>\n",
              "      <td>0.133</td>\n",
              "      <td>0.815</td>\n",
              "      <td>0.052</td>\n",
              "      <td>13768.79</td>\n",
              "      <td>13971.82</td>\n",
              "      <td>13763.39</td>\n",
              "      <td>2.366217</td>\n",
              "      <td>2.594059</td>\n",
              "    </tr>\n",
              "    <tr>\n",
              "      <th>2007-01-08</th>\n",
              "      <td>13652.15</td>\n",
              "      <td>-0.9912</td>\n",
              "      <td>0.117</td>\n",
              "      <td>0.793</td>\n",
              "      <td>0.090</td>\n",
              "      <td>13855.89</td>\n",
              "      <td>13855.89</td>\n",
              "      <td>13599.87</td>\n",
              "      <td>2.704043</td>\n",
              "      <td>5.637720</td>\n",
              "    </tr>\n",
              "    <tr>\n",
              "      <th>...</th>\n",
              "      <td>...</td>\n",
              "      <td>...</td>\n",
              "      <td>...</td>\n",
              "      <td>...</td>\n",
              "      <td>...</td>\n",
              "      <td>...</td>\n",
              "      <td>...</td>\n",
              "      <td>...</td>\n",
              "      <td>...</td>\n",
              "      <td>...</td>\n",
              "    </tr>\n",
              "    <tr>\n",
              "      <th>2021-07-15</th>\n",
              "      <td>53158.85</td>\n",
              "      <td>0.0000</td>\n",
              "      <td>0.000</td>\n",
              "      <td>1.000</td>\n",
              "      <td>0.000</td>\n",
              "      <td>52968.89</td>\n",
              "      <td>53266.12</td>\n",
              "      <td>52948.43</td>\n",
              "      <td>NaN</td>\n",
              "      <td>NaN</td>\n",
              "    </tr>\n",
              "    <tr>\n",
              "      <th>2021-07-16</th>\n",
              "      <td>53140.06</td>\n",
              "      <td>0.2960</td>\n",
              "      <td>0.000</td>\n",
              "      <td>0.833</td>\n",
              "      <td>0.167</td>\n",
              "      <td>53244.40</td>\n",
              "      <td>53290.81</td>\n",
              "      <td>52997.09</td>\n",
              "      <td>NaN</td>\n",
              "      <td>NaN</td>\n",
              "    </tr>\n",
              "    <tr>\n",
              "      <th>2021-07-19</th>\n",
              "      <td>52553.40</td>\n",
              "      <td>0.0000</td>\n",
              "      <td>0.000</td>\n",
              "      <td>1.000</td>\n",
              "      <td>0.000</td>\n",
              "      <td>52606.99</td>\n",
              "      <td>52821.17</td>\n",
              "      <td>52405.89</td>\n",
              "      <td>NaN</td>\n",
              "      <td>NaN</td>\n",
              "    </tr>\n",
              "    <tr>\n",
              "      <th>2021-07-20</th>\n",
              "      <td>52198.51</td>\n",
              "      <td>0.5574</td>\n",
              "      <td>0.000</td>\n",
              "      <td>0.753</td>\n",
              "      <td>0.247</td>\n",
              "      <td>52432.88</td>\n",
              "      <td>52465.03</td>\n",
              "      <td>52013.51</td>\n",
              "      <td>NaN</td>\n",
              "      <td>NaN</td>\n",
              "    </tr>\n",
              "    <tr>\n",
              "      <th>2021-07-22</th>\n",
              "      <td>52837.21</td>\n",
              "      <td>-0.1280</td>\n",
              "      <td>0.176</td>\n",
              "      <td>0.824</td>\n",
              "      <td>0.000</td>\n",
              "      <td>52494.56</td>\n",
              "      <td>52867.26</td>\n",
              "      <td>52471.23</td>\n",
              "      <td>NaN</td>\n",
              "      <td>NaN</td>\n",
              "    </tr>\n",
              "  </tbody>\n",
              "</table>\n",
              "<p>3605 rows × 10 columns</p>\n",
              "</div>"
            ],
            "text/plain": [
              "               Close  compound  ...  monthly_return  yearly_return\n",
              "Date                            ...                               \n",
              "2007-01-02  13942.24   -0.9959  ...        2.964445       4.511829\n",
              "2007-01-03  14014.92   -0.9942  ...        2.768335       1.986454\n",
              "2007-01-04  13871.71   -0.9979  ...        2.751427       1.693158\n",
              "2007-01-05  13860.52   -0.9978  ...        2.366217       2.594059\n",
              "2007-01-08  13652.15   -0.9912  ...        2.704043       5.637720\n",
              "...              ...       ...  ...             ...            ...\n",
              "2021-07-15  53158.85    0.0000  ...             NaN            NaN\n",
              "2021-07-16  53140.06    0.2960  ...             NaN            NaN\n",
              "2021-07-19  52553.40    0.0000  ...             NaN            NaN\n",
              "2021-07-20  52198.51    0.5574  ...             NaN            NaN\n",
              "2021-07-22  52837.21   -0.1280  ...             NaN            NaN\n",
              "\n",
              "[3605 rows x 10 columns]"
            ]
          },
          "metadata": {
            "tags": []
          },
          "execution_count": 57
        }
      ]
    },
    {
      "cell_type": "code",
      "metadata": {
        "id": "LhyJwiVQ0g2d"
      },
      "source": [
        "# writing the prepared stock_data to disk\n",
        "option = \"b\"\n",
        "if option==\"a\":\n",
        "  file_name = \"nifty_\"\n",
        "elif option==\"b\":\n",
        "  file_name = \"BSE_\"\n",
        "stock_data.to_csv(file_name+'stock_data.csv')"
      ],
      "execution_count": 60,
      "outputs": []
    },
    {
      "cell_type": "code",
      "metadata": {
        "colab": {
          "base_uri": "https://localhost:8080/",
          "height": 286
        },
        "id": "SV-95nFxsqYw",
        "outputId": "fe51bc7c-6006-4110-ff5b-a83b13dafe14"
      },
      "source": [
        "stock_data['yearly_return'].plot()"
      ],
      "execution_count": 61,
      "outputs": [
        {
          "output_type": "execute_result",
          "data": {
            "text/plain": [
              "<matplotlib.axes._subplots.AxesSubplot at 0x7f42c74ddc10>"
            ]
          },
          "metadata": {
            "tags": []
          },
          "execution_count": 61
        },
        {
          "output_type": "display_data",
          "data": {
            "image/png": "[encoded data removed]",
            "text/plain": [
              "<Figure size 432x288 with 1 Axes>"
            ]
          },
          "metadata": {
            "tags": [],
            "needs_background": "light"
          }
        }
      ]
    },
    {
      "cell_type": "code",
      "metadata": {
        "id": "kCgjilRXJ_kG"
      },
      "source": [
        "!sudo mv /content/consultancy/ /content/consultancy_new/ "
      ],
      "execution_count": 62,
      "outputs": []
    },
    {
      "cell_type": "code",
      "metadata": {
        "id": "yMT7--5zKVc1"
      },
      "source": [
        "!sudo mv /content/consultancy_new/ /content/drive/MyDrive/"
      ],
      "execution_count": 63,
      "outputs": []
    }
  ]
}