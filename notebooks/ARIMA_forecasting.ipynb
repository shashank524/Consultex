{
  "nbformat": 4,
  "nbformat_minor": 0,
  "metadata": {
    "colab": {
      "name": "ARIMA_forecasting.ipynb",
      "provenance": [],
      "collapsed_sections": []
    },
    "kernelspec": {
      "name": "python3",
      "display_name": "Python 3"
    },
    "language_info": {
      "name": "python"
    }
  },
  "cells": [
    {
      "cell_type": "code",
      "metadata": {
        "colab": {
          "base_uri": "https://localhost:8080/"
        },
        "id": "9Q4vr8EiDe3s",
        "outputId": "09943f60-f38e-4c00-f6e2-6fc7f716d822"
      },
      "source": [
        "!sudo cp -r /content/drive/MyDrive/consultancy/ /content/\n",
        "%cd /content/consultancy/"
      ],
      "execution_count": null,
      "outputs": [
        {
          "output_type": "stream",
          "text": [
            "/content/consultancy\n"
          ],
          "name": "stdout"
        }
      ]
    },
    {
      "cell_type": "code",
      "metadata": {
        "colab": {
          "base_uri": "https://localhost:8080/"
        },
        "id": "8CSxv10MqLH6",
        "outputId": "5ac7d275-e2fd-42cd-bf8d-9c86cd8ea00e"
      },
      "source": [
        "!pip install pmdarima"
      ],
      "execution_count": null,
      "outputs": [
        {
          "output_type": "stream",
          "text": [
            "Requirement already satisfied: pmdarima in /usr/local/lib/python3.7/dist-packages (1.8.2)\n",
            "Requirement already satisfied: scikit-learn>=0.22 in /usr/local/lib/python3.7/dist-packages (from pmdarima) (0.22.2.post1)\n",
            "Requirement already satisfied: statsmodels!=0.12.0,>=0.11 in /usr/local/lib/python3.7/dist-packages (from pmdarima) (0.12.2)\n",
            "Requirement already satisfied: pandas>=0.19 in /usr/local/lib/python3.7/dist-packages (from pmdarima) (1.1.5)\n",
            "Requirement already satisfied: numpy~=1.19.0 in /usr/local/lib/python3.7/dist-packages (from pmdarima) (1.19.5)\n",
            "Requirement already satisfied: joblib>=0.11 in /usr/local/lib/python3.7/dist-packages (from pmdarima) (1.0.1)\n",
            "Requirement already satisfied: urllib3 in /usr/local/lib/python3.7/dist-packages (from pmdarima) (1.24.3)\n",
            "Requirement already satisfied: scipy>=1.3.2 in /usr/local/lib/python3.7/dist-packages (from pmdarima) (1.4.1)\n",
            "Requirement already satisfied: Cython!=0.29.18,>=0.29 in /usr/local/lib/python3.7/dist-packages (from pmdarima) (0.29.23)\n",
            "Requirement already satisfied: setuptools!=50.0.0,>=38.6.0 in /usr/local/lib/python3.7/dist-packages (from pmdarima) (57.2.0)\n",
            "Requirement already satisfied: python-dateutil>=2.7.3 in /usr/local/lib/python3.7/dist-packages (from pandas>=0.19->pmdarima) (2.8.1)\n",
            "Requirement already satisfied: pytz>=2017.2 in /usr/local/lib/python3.7/dist-packages (from pandas>=0.19->pmdarima) (2018.9)\n",
            "Requirement already satisfied: six>=1.5 in /usr/local/lib/python3.7/dist-packages (from python-dateutil>=2.7.3->pandas>=0.19->pmdarima) (1.15.0)\n",
            "Requirement already satisfied: patsy>=0.5 in /usr/local/lib/python3.7/dist-packages (from statsmodels!=0.12.0,>=0.11->pmdarima) (0.5.1)\n"
          ],
          "name": "stdout"
        }
      ]
    },
    {
      "cell_type": "code",
      "metadata": {
        "id": "lSMaAIQTvANi"
      },
      "source": [
        "import numpy as np\n",
        "import pandas as pd\n",
        "\n",
        "import matplotlib.pyplot as plt\n",
        "%matplotlib inline"
      ],
      "execution_count": null,
      "outputs": []
    },
    {
      "cell_type": "code",
      "metadata": {
        "colab": {
          "base_uri": "https://localhost:8080/",
          "height": 686
        },
        "id": "1ZJNkSqYvgXL",
        "outputId": "e5ac7aab-d9c5-4775-df67-323744254ed5"
      },
      "source": [
        "print(\"a => Nifty50\")\n",
        "print(\"b => BSE Sensex\")\n",
        "option = input(\"Select file\")\n",
        "if option==\"a\":\n",
        "  File = \"nifty_stock_data.csv\"\n",
        "elif option == \"b\":\n",
        "  File = \"BSE_stock_data.csv\"\n",
        "\n",
        "path = \"/content/consultancy/\" + File\n",
        "\n",
        "df = pd.read_csv(path, index_col=False)\n",
        "\n",
        "df['Date'] = pd.to_datetime(df['Date'])\n",
        "df.set_index('Date', inplace=True)\n",
        "# df.dropna(axis=0,inplace=True)\n",
        "df"
      ],
      "execution_count": null,
      "outputs": [
        {
          "output_type": "stream",
          "text": [
            "a => Nifty50\n",
            "b => BSE Sensex\n",
            "Select filea\n"
          ],
          "name": "stdout"
        },
        {
          "output_type": "execute_result",
          "data": {
            "text/html": [
              "<div>\n",
              "<style scoped>\n",
              "    .dataframe tbody tr th:only-of-type {\n",
              "        vertical-align: middle;\n",
              "    }\n",
              "\n",
              "    .dataframe tbody tr th {\n",
              "        vertical-align: top;\n",
              "    }\n",
              "\n",
              "    .dataframe thead th {\n",
              "        text-align: right;\n",
              "    }\n",
              "</style>\n",
              "<table border=\"1\" class=\"dataframe\">\n",
              "  <thead>\n",
              "    <tr style=\"text-align: right;\">\n",
              "      <th></th>\n",
              "      <th>Unnamed: 0</th>\n",
              "      <th>Close</th>\n",
              "      <th>compound</th>\n",
              "      <th>negative</th>\n",
              "      <th>neutral</th>\n",
              "      <th>positive</th>\n",
              "      <th>Open</th>\n",
              "      <th>High</th>\n",
              "      <th>Low</th>\n",
              "      <th>Volume</th>\n",
              "      <th>monthly_return</th>\n",
              "      <th>yearly_return</th>\n",
              "    </tr>\n",
              "    <tr>\n",
              "      <th>Date</th>\n",
              "      <th></th>\n",
              "      <th></th>\n",
              "      <th></th>\n",
              "      <th></th>\n",
              "      <th></th>\n",
              "      <th></th>\n",
              "      <th></th>\n",
              "      <th></th>\n",
              "      <th></th>\n",
              "      <th></th>\n",
              "      <th></th>\n",
              "      <th></th>\n",
              "    </tr>\n",
              "  </thead>\n",
              "  <tbody>\n",
              "    <tr>\n",
              "      <th>2007-09-17</th>\n",
              "      <td>0</td>\n",
              "      <td>4494.649902</td>\n",
              "      <td>-0.9964</td>\n",
              "      <td>0.107</td>\n",
              "      <td>0.822</td>\n",
              "      <td>0.070</td>\n",
              "      <td>4518.450195</td>\n",
              "      <td>4549.049805</td>\n",
              "      <td>4482.850098</td>\n",
              "      <td>0.0</td>\n",
              "      <td>30.571905</td>\n",
              "      <td>-37.821632</td>\n",
              "    </tr>\n",
              "    <tr>\n",
              "      <th>2007-09-18</th>\n",
              "      <td>1</td>\n",
              "      <td>4546.200195</td>\n",
              "      <td>-0.9979</td>\n",
              "      <td>0.127</td>\n",
              "      <td>0.795</td>\n",
              "      <td>0.078</td>\n",
              "      <td>4494.100098</td>\n",
              "      <td>4551.799805</td>\n",
              "      <td>4481.549805</td>\n",
              "      <td>0.0</td>\n",
              "      <td>29.793006</td>\n",
              "      <td>-38.252831</td>\n",
              "    </tr>\n",
              "    <tr>\n",
              "      <th>2007-09-19</th>\n",
              "      <td>2</td>\n",
              "      <td>4732.350098</td>\n",
              "      <td>-0.9892</td>\n",
              "      <td>0.097</td>\n",
              "      <td>0.830</td>\n",
              "      <td>0.073</td>\n",
              "      <td>4550.250000</td>\n",
              "      <td>4739.000000</td>\n",
              "      <td>4550.250000</td>\n",
              "      <td>0.0</td>\n",
              "      <td>23.964839</td>\n",
              "      <td>-40.683804</td>\n",
              "    </tr>\n",
              "    <tr>\n",
              "      <th>2007-09-20</th>\n",
              "      <td>3</td>\n",
              "      <td>4747.549805</td>\n",
              "      <td>-0.9922</td>\n",
              "      <td>0.115</td>\n",
              "      <td>0.800</td>\n",
              "      <td>0.084</td>\n",
              "      <td>4734.850098</td>\n",
              "      <td>4760.850098</td>\n",
              "      <td>4721.149902</td>\n",
              "      <td>0.0</td>\n",
              "      <td>24.957086</td>\n",
              "      <td>-38.075428</td>\n",
              "    </tr>\n",
              "    <tr>\n",
              "      <th>2007-09-21</th>\n",
              "      <td>4</td>\n",
              "      <td>4837.549805</td>\n",
              "      <td>-0.9989</td>\n",
              "      <td>0.140</td>\n",
              "      <td>0.803</td>\n",
              "      <td>0.057</td>\n",
              "      <td>4752.950195</td>\n",
              "      <td>4855.700195</td>\n",
              "      <td>4733.700195</td>\n",
              "      <td>0.0</td>\n",
              "      <td>20.873170</td>\n",
              "      <td>-39.252306</td>\n",
              "    </tr>\n",
              "    <tr>\n",
              "      <th>...</th>\n",
              "      <td>...</td>\n",
              "      <td>...</td>\n",
              "      <td>...</td>\n",
              "      <td>...</td>\n",
              "      <td>...</td>\n",
              "      <td>...</td>\n",
              "      <td>...</td>\n",
              "      <td>...</td>\n",
              "      <td>...</td>\n",
              "      <td>...</td>\n",
              "      <td>...</td>\n",
              "      <td>...</td>\n",
              "    </tr>\n",
              "    <tr>\n",
              "      <th>2021-07-12</th>\n",
              "      <td>3375</td>\n",
              "      <td>15692.599609</td>\n",
              "      <td>0.0000</td>\n",
              "      <td>0.000</td>\n",
              "      <td>1.000</td>\n",
              "      <td>0.000</td>\n",
              "      <td>15766.799805</td>\n",
              "      <td>15789.200195</td>\n",
              "      <td>15644.750000</td>\n",
              "      <td>216300.0</td>\n",
              "      <td>NaN</td>\n",
              "      <td>NaN</td>\n",
              "    </tr>\n",
              "    <tr>\n",
              "      <th>2021-07-13</th>\n",
              "      <td>3376</td>\n",
              "      <td>15812.349609</td>\n",
              "      <td>0.2500</td>\n",
              "      <td>0.169</td>\n",
              "      <td>0.602</td>\n",
              "      <td>0.229</td>\n",
              "      <td>15794.000000</td>\n",
              "      <td>15820.799805</td>\n",
              "      <td>15744.599609</td>\n",
              "      <td>246700.0</td>\n",
              "      <td>NaN</td>\n",
              "      <td>NaN</td>\n",
              "    </tr>\n",
              "    <tr>\n",
              "      <th>2021-07-14</th>\n",
              "      <td>3377</td>\n",
              "      <td>15853.950195</td>\n",
              "      <td>-0.5106</td>\n",
              "      <td>0.355</td>\n",
              "      <td>0.645</td>\n",
              "      <td>0.000</td>\n",
              "      <td>15808.700195</td>\n",
              "      <td>15877.349609</td>\n",
              "      <td>15764.200195</td>\n",
              "      <td>0.0</td>\n",
              "      <td>NaN</td>\n",
              "      <td>NaN</td>\n",
              "    </tr>\n",
              "    <tr>\n",
              "      <th>2021-07-15</th>\n",
              "      <td>3378</td>\n",
              "      <td>15924.200195</td>\n",
              "      <td>0.0000</td>\n",
              "      <td>0.000</td>\n",
              "      <td>1.000</td>\n",
              "      <td>0.000</td>\n",
              "      <td>15872.150391</td>\n",
              "      <td>15952.349609</td>\n",
              "      <td>15855.000000</td>\n",
              "      <td>284900.0</td>\n",
              "      <td>NaN</td>\n",
              "      <td>NaN</td>\n",
              "    </tr>\n",
              "    <tr>\n",
              "      <th>2021-07-16</th>\n",
              "      <td>3379</td>\n",
              "      <td>15923.400391</td>\n",
              "      <td>0.2960</td>\n",
              "      <td>0.000</td>\n",
              "      <td>0.833</td>\n",
              "      <td>0.167</td>\n",
              "      <td>15958.349609</td>\n",
              "      <td>15962.250000</td>\n",
              "      <td>15882.599609</td>\n",
              "      <td>276300.0</td>\n",
              "      <td>NaN</td>\n",
              "      <td>NaN</td>\n",
              "    </tr>\n",
              "  </tbody>\n",
              "</table>\n",
              "<p>3380 rows × 12 columns</p>\n",
              "</div>"
            ],
            "text/plain": [
              "            Unnamed: 0         Close  ...  monthly_return  yearly_return\n",
              "Date                                  ...                               \n",
              "2007-09-17           0   4494.649902  ...       30.571905     -37.821632\n",
              "2007-09-18           1   4546.200195  ...       29.793006     -38.252831\n",
              "2007-09-19           2   4732.350098  ...       23.964839     -40.683804\n",
              "2007-09-20           3   4747.549805  ...       24.957086     -38.075428\n",
              "2007-09-21           4   4837.549805  ...       20.873170     -39.252306\n",
              "...                ...           ...  ...             ...            ...\n",
              "2021-07-12        3375  15692.599609  ...             NaN            NaN\n",
              "2021-07-13        3376  15812.349609  ...             NaN            NaN\n",
              "2021-07-14        3377  15853.950195  ...             NaN            NaN\n",
              "2021-07-15        3378  15924.200195  ...             NaN            NaN\n",
              "2021-07-16        3379  15923.400391  ...             NaN            NaN\n",
              "\n",
              "[3380 rows x 12 columns]"
            ]
          },
          "metadata": {
            "tags": []
          },
          "execution_count": 129
        }
      ]
    },
    {
      "cell_type": "code",
      "metadata": {
        "colab": {
          "base_uri": "https://localhost:8080/",
          "height": 431
        },
        "id": "MKdnOPLbvM-5",
        "outputId": "2560bfda-2b88-4096-82f0-4e53d9dc21e6"
      },
      "source": [
        "df.drop(df.columns[0], axis=1, inplace=True)\n",
        "df"
      ],
      "execution_count": null,
      "outputs": [
        {
          "output_type": "execute_result",
          "data": {
            "text/html": [
              "<div>\n",
              "<style scoped>\n",
              "    .dataframe tbody tr th:only-of-type {\n",
              "        vertical-align: middle;\n",
              "    }\n",
              "\n",
              "    .dataframe tbody tr th {\n",
              "        vertical-align: top;\n",
              "    }\n",
              "\n",
              "    .dataframe thead th {\n",
              "        text-align: right;\n",
              "    }\n",
              "</style>\n",
              "<table border=\"1\" class=\"dataframe\">\n",
              "  <thead>\n",
              "    <tr style=\"text-align: right;\">\n",
              "      <th></th>\n",
              "      <th>Close</th>\n",
              "      <th>compound</th>\n",
              "      <th>negative</th>\n",
              "      <th>neutral</th>\n",
              "      <th>positive</th>\n",
              "      <th>Open</th>\n",
              "      <th>High</th>\n",
              "      <th>Low</th>\n",
              "      <th>Volume</th>\n",
              "      <th>monthly_return</th>\n",
              "      <th>yearly_return</th>\n",
              "    </tr>\n",
              "    <tr>\n",
              "      <th>Date</th>\n",
              "      <th></th>\n",
              "      <th></th>\n",
              "      <th></th>\n",
              "      <th></th>\n",
              "      <th></th>\n",
              "      <th></th>\n",
              "      <th></th>\n",
              "      <th></th>\n",
              "      <th></th>\n",
              "      <th></th>\n",
              "      <th></th>\n",
              "    </tr>\n",
              "  </thead>\n",
              "  <tbody>\n",
              "    <tr>\n",
              "      <th>2007-09-17</th>\n",
              "      <td>4494.649902</td>\n",
              "      <td>-0.9964</td>\n",
              "      <td>0.107</td>\n",
              "      <td>0.822</td>\n",
              "      <td>0.070</td>\n",
              "      <td>4518.450195</td>\n",
              "      <td>4549.049805</td>\n",
              "      <td>4482.850098</td>\n",
              "      <td>0.0</td>\n",
              "      <td>30.571905</td>\n",
              "      <td>-37.821632</td>\n",
              "    </tr>\n",
              "    <tr>\n",
              "      <th>2007-09-18</th>\n",
              "      <td>4546.200195</td>\n",
              "      <td>-0.9979</td>\n",
              "      <td>0.127</td>\n",
              "      <td>0.795</td>\n",
              "      <td>0.078</td>\n",
              "      <td>4494.100098</td>\n",
              "      <td>4551.799805</td>\n",
              "      <td>4481.549805</td>\n",
              "      <td>0.0</td>\n",
              "      <td>29.793006</td>\n",
              "      <td>-38.252831</td>\n",
              "    </tr>\n",
              "    <tr>\n",
              "      <th>2007-09-19</th>\n",
              "      <td>4732.350098</td>\n",
              "      <td>-0.9892</td>\n",
              "      <td>0.097</td>\n",
              "      <td>0.830</td>\n",
              "      <td>0.073</td>\n",
              "      <td>4550.250000</td>\n",
              "      <td>4739.000000</td>\n",
              "      <td>4550.250000</td>\n",
              "      <td>0.0</td>\n",
              "      <td>23.964839</td>\n",
              "      <td>-40.683804</td>\n",
              "    </tr>\n",
              "    <tr>\n",
              "      <th>2007-09-20</th>\n",
              "      <td>4747.549805</td>\n",
              "      <td>-0.9922</td>\n",
              "      <td>0.115</td>\n",
              "      <td>0.800</td>\n",
              "      <td>0.084</td>\n",
              "      <td>4734.850098</td>\n",
              "      <td>4760.850098</td>\n",
              "      <td>4721.149902</td>\n",
              "      <td>0.0</td>\n",
              "      <td>24.957086</td>\n",
              "      <td>-38.075428</td>\n",
              "    </tr>\n",
              "    <tr>\n",
              "      <th>2007-09-21</th>\n",
              "      <td>4837.549805</td>\n",
              "      <td>-0.9989</td>\n",
              "      <td>0.140</td>\n",
              "      <td>0.803</td>\n",
              "      <td>0.057</td>\n",
              "      <td>4752.950195</td>\n",
              "      <td>4855.700195</td>\n",
              "      <td>4733.700195</td>\n",
              "      <td>0.0</td>\n",
              "      <td>20.873170</td>\n",
              "      <td>-39.252306</td>\n",
              "    </tr>\n",
              "    <tr>\n",
              "      <th>...</th>\n",
              "      <td>...</td>\n",
              "      <td>...</td>\n",
              "      <td>...</td>\n",
              "      <td>...</td>\n",
              "      <td>...</td>\n",
              "      <td>...</td>\n",
              "      <td>...</td>\n",
              "      <td>...</td>\n",
              "      <td>...</td>\n",
              "      <td>...</td>\n",
              "      <td>...</td>\n",
              "    </tr>\n",
              "    <tr>\n",
              "      <th>2021-07-12</th>\n",
              "      <td>15692.599609</td>\n",
              "      <td>0.0000</td>\n",
              "      <td>0.000</td>\n",
              "      <td>1.000</td>\n",
              "      <td>0.000</td>\n",
              "      <td>15766.799805</td>\n",
              "      <td>15789.200195</td>\n",
              "      <td>15644.750000</td>\n",
              "      <td>216300.0</td>\n",
              "      <td>NaN</td>\n",
              "      <td>NaN</td>\n",
              "    </tr>\n",
              "    <tr>\n",
              "      <th>2021-07-13</th>\n",
              "      <td>15812.349609</td>\n",
              "      <td>0.2500</td>\n",
              "      <td>0.169</td>\n",
              "      <td>0.602</td>\n",
              "      <td>0.229</td>\n",
              "      <td>15794.000000</td>\n",
              "      <td>15820.799805</td>\n",
              "      <td>15744.599609</td>\n",
              "      <td>246700.0</td>\n",
              "      <td>NaN</td>\n",
              "      <td>NaN</td>\n",
              "    </tr>\n",
              "    <tr>\n",
              "      <th>2021-07-14</th>\n",
              "      <td>15853.950195</td>\n",
              "      <td>-0.5106</td>\n",
              "      <td>0.355</td>\n",
              "      <td>0.645</td>\n",
              "      <td>0.000</td>\n",
              "      <td>15808.700195</td>\n",
              "      <td>15877.349609</td>\n",
              "      <td>15764.200195</td>\n",
              "      <td>0.0</td>\n",
              "      <td>NaN</td>\n",
              "      <td>NaN</td>\n",
              "    </tr>\n",
              "    <tr>\n",
              "      <th>2021-07-15</th>\n",
              "      <td>15924.200195</td>\n",
              "      <td>0.0000</td>\n",
              "      <td>0.000</td>\n",
              "      <td>1.000</td>\n",
              "      <td>0.000</td>\n",
              "      <td>15872.150391</td>\n",
              "      <td>15952.349609</td>\n",
              "      <td>15855.000000</td>\n",
              "      <td>284900.0</td>\n",
              "      <td>NaN</td>\n",
              "      <td>NaN</td>\n",
              "    </tr>\n",
              "    <tr>\n",
              "      <th>2021-07-16</th>\n",
              "      <td>15923.400391</td>\n",
              "      <td>0.2960</td>\n",
              "      <td>0.000</td>\n",
              "      <td>0.833</td>\n",
              "      <td>0.167</td>\n",
              "      <td>15958.349609</td>\n",
              "      <td>15962.250000</td>\n",
              "      <td>15882.599609</td>\n",
              "      <td>276300.0</td>\n",
              "      <td>NaN</td>\n",
              "      <td>NaN</td>\n",
              "    </tr>\n",
              "  </tbody>\n",
              "</table>\n",
              "<p>3380 rows × 11 columns</p>\n",
              "</div>"
            ],
            "text/plain": [
              "                   Close  compound  ...  monthly_return  yearly_return\n",
              "Date                                ...                               \n",
              "2007-09-17   4494.649902   -0.9964  ...       30.571905     -37.821632\n",
              "2007-09-18   4546.200195   -0.9979  ...       29.793006     -38.252831\n",
              "2007-09-19   4732.350098   -0.9892  ...       23.964839     -40.683804\n",
              "2007-09-20   4747.549805   -0.9922  ...       24.957086     -38.075428\n",
              "2007-09-21   4837.549805   -0.9989  ...       20.873170     -39.252306\n",
              "...                  ...       ...  ...             ...            ...\n",
              "2021-07-12  15692.599609    0.0000  ...             NaN            NaN\n",
              "2021-07-13  15812.349609    0.2500  ...             NaN            NaN\n",
              "2021-07-14  15853.950195   -0.5106  ...             NaN            NaN\n",
              "2021-07-15  15924.200195    0.0000  ...             NaN            NaN\n",
              "2021-07-16  15923.400391    0.2960  ...             NaN            NaN\n",
              "\n",
              "[3380 rows x 11 columns]"
            ]
          },
          "metadata": {
            "tags": []
          },
          "execution_count": 130
        }
      ]
    },
    {
      "cell_type": "code",
      "metadata": {
        "colab": {
          "base_uri": "https://localhost:8080/",
          "height": 335
        },
        "id": "R7-Dl3u-vJZZ",
        "outputId": "540f74d3-0a17-48ad-fc22-711eddf6d8f6"
      },
      "source": [
        "df['yearly_return'].plot(figsize=(12,5))"
      ],
      "execution_count": null,
      "outputs": [
        {
          "output_type": "execute_result",
          "data": {
            "text/plain": [
              "<matplotlib.axes._subplots.AxesSubplot at 0x7f0a7ad600d0>"
            ]
          },
          "metadata": {
            "tags": []
          },
          "execution_count": 131
        },
        {
          "output_type": "display_data",
          "data": {
            "image/png": "[encoded data removed]",
            "text/plain": [
              "<Figure size 864x360 with 1 Axes>"
            ]
          },
          "metadata": {
            "tags": [],
            "needs_background": "light"
          }
        }
      ]
    },
    {
      "cell_type": "code",
      "metadata": {
        "id": "5gM5N6yxvSx5"
      },
      "source": [
        "from statsmodels.tsa.stattools import adfuller\n",
        "\n",
        "def ad_test(dataset):\n",
        "     dftest = adfuller(dataset, autolag = 'AIC')\n",
        "     print(\"1. ADF : \",dftest[0])\n",
        "     print(\"2. P-Value : \", dftest[1])\n",
        "     print(\"3. Num Of Lags : \", dftest[2])\n",
        "     print(\"4. Num Of Observations Used For ADF Regression:\",      dftest[3])\n",
        "     print(\"5. Critical Values :\")\n",
        "     for key, val in dftest[4].items():\n",
        "         print(\"\\t\",key, \": \", val)\n",
        "\n",
        "ad_test(df['monthly_return'])"
      ],
      "execution_count": null,
      "outputs": []
    },
    {
      "cell_type": "code",
      "metadata": {
        "colab": {
          "base_uri": "https://localhost:8080/"
        },
        "id": "saKUTaXjrDHV",
        "outputId": "44a22473-c521-4073-ace9-20fb2503f2d6"
      },
      "source": [
        "print(df.shape)\n",
        "# train=df.iloc[:-60]\n",
        "# test=df.iloc[-60:]\n",
        "train=df.iloc[:-666]\n",
        "test=df.iloc[-666:]\n",
        "print(train.shape,test.shape)"
      ],
      "execution_count": null,
      "outputs": [
        {
          "output_type": "stream",
          "text": [
            "(3380, 11)\n",
            "(2714, 11) (666, 11)\n"
          ],
          "name": "stdout"
        }
      ]
    },
    {
      "cell_type": "code",
      "metadata": {
        "id": "Cas7TCSLrDCa"
      },
      "source": [
        "# from pmdarima import auto_arima\n",
        "# stepwise_fit = auto_arima(train['yearly_return'], trace=True, suppress_warnings=True, start_P=2)\n",
        "# stepwise_fit.summary()"
      ],
      "execution_count": null,
      "outputs": []
    },
    {
      "cell_type": "code",
      "metadata": {
        "id": "WYucpLvzxUcF"
      },
      "source": [
        "from statsmodels.tsa.arima_model import ARIMA"
      ],
      "execution_count": null,
      "outputs": []
    },
    {
      "cell_type": "code",
      "metadata": {
        "colab": {
          "base_uri": "https://localhost:8080/",
          "height": 731
        },
        "id": "hAZ7FgIarMLN",
        "outputId": "b601257b-e82f-40af-d413-8326f7e94b93"
      },
      "source": [
        "\n",
        "model=ARIMA(train['yearly_return'],order=(2,0,1))\n",
        "model=model.fit()\n",
        "model.summary()"
      ],
      "execution_count": null,
      "outputs": [
        {
          "output_type": "stream",
          "text": [
            "/usr/local/lib/python3.7/dist-packages/statsmodels/tsa/arima_model.py:472: FutureWarning: \n",
            "statsmodels.tsa.arima_model.ARMA and statsmodels.tsa.arima_model.ARIMA have\n",
            "been deprecated in favor of statsmodels.tsa.arima.model.ARIMA (note the .\n",
            "between arima and model) and\n",
            "statsmodels.tsa.SARIMAX. These will be removed after the 0.12 release.\n",
            "\n",
            "statsmodels.tsa.arima.model.ARIMA makes use of the statespace framework and\n",
            "is both well tested and maintained.\n",
            "\n",
            "To silence this warning and continue using ARMA and ARIMA until they are\n",
            "removed, use:\n",
            "\n",
            "import warnings\n",
            "warnings.filterwarnings('ignore', 'statsmodels.tsa.arima_model.ARMA',\n",
            "                        FutureWarning)\n",
            "warnings.filterwarnings('ignore', 'statsmodels.tsa.arima_model.ARIMA',\n",
            "                        FutureWarning)\n",
            "\n",
            "  warnings.warn(ARIMA_DEPRECATION_WARN, FutureWarning)\n",
            "/usr/local/lib/python3.7/dist-packages/statsmodels/tsa/base/tsa_model.py:583: ValueWarning: A date index has been provided, but it has no associated frequency information and so will be ignored when e.g. forecasting.\n",
            "  ' ignored when e.g. forecasting.', ValueWarning)\n"
          ],
          "name": "stderr"
        },
        {
          "output_type": "execute_result",
          "data": {
            "text/html": [
              "<table class=\"simpletable\">\n",
              "<caption>ARMA Model Results</caption>\n",
              "<tr>\n",
              "  <th>Dep. Variable:</th>   <td>yearly_return</td>  <th>  No. Observations:  </th>   <td>2714</td>   \n",
              "</tr>\n",
              "<tr>\n",
              "  <th>Model:</th>            <td>ARMA(2, 1)</td>    <th>  Log Likelihood     </th> <td>-6150.561</td>\n",
              "</tr>\n",
              "<tr>\n",
              "  <th>Method:</th>             <td>css-mle</td>     <th>  S.D. of innovations</th>   <td>2.331</td>  \n",
              "</tr>\n",
              "<tr>\n",
              "  <th>Date:</th>          <td>Sat, 24 Jul 2021</td> <th>  AIC                </th> <td>12311.121</td>\n",
              "</tr>\n",
              "<tr>\n",
              "  <th>Time:</th>              <td>07:44:22</td>     <th>  BIC                </th> <td>12340.652</td>\n",
              "</tr>\n",
              "<tr>\n",
              "  <th>Sample:</th>                <td>0</td>        <th>  HQIC               </th> <td>12321.798</td>\n",
              "</tr>\n",
              "<tr>\n",
              "  <th></th>                       <td> </td>        <th>                     </th>     <td> </td>    \n",
              "</tr>\n",
              "</table>\n",
              "<table class=\"simpletable\">\n",
              "<tr>\n",
              "           <td></td>              <th>coef</th>     <th>std err</th>      <th>z</th>      <th>P>|z|</th>  <th>[0.025</th>    <th>0.975]</th>  \n",
              "</tr>\n",
              "<tr>\n",
              "  <th>const</th>               <td>   10.8038</td> <td>    9.597</td> <td>    1.126</td> <td> 0.260</td> <td>   -8.006</td> <td>   29.614</td>\n",
              "</tr>\n",
              "<tr>\n",
              "  <th>ar.L1.yearly_return</th> <td>    0.6941</td> <td>    0.215</td> <td>    3.230</td> <td> 0.001</td> <td>    0.273</td> <td>    1.115</td>\n",
              "</tr>\n",
              "<tr>\n",
              "  <th>ar.L2.yearly_return</th> <td>    0.2997</td> <td>    0.214</td> <td>    1.400</td> <td> 0.162</td> <td>   -0.120</td> <td>    0.719</td>\n",
              "</tr>\n",
              "<tr>\n",
              "  <th>ma.L1.yearly_return</th> <td>    0.3930</td> <td>    0.208</td> <td>    1.892</td> <td> 0.058</td> <td>   -0.014</td> <td>    0.800</td>\n",
              "</tr>\n",
              "</table>\n",
              "<table class=\"simpletable\">\n",
              "<caption>Roots</caption>\n",
              "<tr>\n",
              "    <td></td>   <th>            Real</th>  <th>         Imaginary</th> <th>         Modulus</th>  <th>        Frequency</th>\n",
              "</tr>\n",
              "<tr>\n",
              "  <th>AR.1</th> <td>           1.0048</td> <td>          +0.0000j</td> <td>           1.0048</td> <td>           0.0000</td>\n",
              "</tr>\n",
              "<tr>\n",
              "  <th>AR.2</th> <td>          -3.3210</td> <td>          +0.0000j</td> <td>           3.3210</td> <td>           0.5000</td>\n",
              "</tr>\n",
              "<tr>\n",
              "  <th>MA.1</th> <td>          -2.5446</td> <td>          +0.0000j</td> <td>           2.5446</td> <td>           0.5000</td>\n",
              "</tr>\n",
              "</table>"
            ],
            "text/plain": [
              "<class 'statsmodels.iolib.summary.Summary'>\n",
              "\"\"\"\n",
              "                              ARMA Model Results                              \n",
              "==============================================================================\n",
              "Dep. Variable:          yearly_return   No. Observations:                 2714\n",
              "Model:                     ARMA(2, 1)   Log Likelihood               -6150.561\n",
              "Method:                       css-mle   S.D. of innovations              2.331\n",
              "Date:                Sat, 24 Jul 2021   AIC                          12311.121\n",
              "Time:                        07:44:22   BIC                          12340.652\n",
              "Sample:                             0   HQIC                         12321.798\n",
              "                                                                              \n",
              "=======================================================================================\n",
              "                          coef    std err          z      P>|z|      [0.025      0.975]\n",
              "---------------------------------------------------------------------------------------\n",
              "const                  10.8038      9.597      1.126      0.260      -8.006      29.614\n",
              "ar.L1.yearly_return     0.6941      0.215      3.230      0.001       0.273       1.115\n",
              "ar.L2.yearly_return     0.2997      0.214      1.400      0.162      -0.120       0.719\n",
              "ma.L1.yearly_return     0.3930      0.208      1.892      0.058      -0.014       0.800\n",
              "                                    Roots                                    \n",
              "=============================================================================\n",
              "                  Real          Imaginary           Modulus         Frequency\n",
              "-----------------------------------------------------------------------------\n",
              "AR.1            1.0048           +0.0000j            1.0048            0.0000\n",
              "AR.2           -3.3210           +0.0000j            3.3210            0.5000\n",
              "MA.1           -2.5446           +0.0000j            2.5446            0.5000\n",
              "-----------------------------------------------------------------------------\n",
              "\"\"\""
            ]
          },
          "metadata": {
            "tags": []
          },
          "execution_count": 168
        }
      ]
    },
    {
      "cell_type": "code",
      "metadata": {
        "colab": {
          "base_uri": "https://localhost:8080/"
        },
        "id": "RppeDVULrMN9",
        "outputId": "914f9e85-8775-48a9-a443-7e3654f5887a"
      },
      "source": [
        "start=len(train)\n",
        "end=len(train)+len(test)-1\n",
        "pred=model.predict(start=start,end=end,typ='levels').rename('ARIMA Predictions')\n",
        "pred.index=df.index[start:end+1]\n",
        "print(pred) \n"
      ],
      "execution_count": null,
      "outputs": [
        {
          "output_type": "stream",
          "text": [
            "Date\n",
            "2018-10-30   -10.050809\n",
            "2018-10-31    -9.708946\n",
            "2018-11-01    -9.684896\n",
            "2018-11-02    -9.565750\n",
            "2018-11-05    -9.475838\n",
            "                ...    \n",
            "2021-07-12     9.909681\n",
            "2021-07-13     9.913919\n",
            "2021-07-14     9.918137\n",
            "2021-07-15     9.922335\n",
            "2021-07-16     9.926513\n",
            "Name: ARIMA Predictions, Length: 666, dtype: float64\n"
          ],
          "name": "stdout"
        },
        {
          "output_type": "stream",
          "text": [
            "/usr/local/lib/python3.7/dist-packages/statsmodels/tsa/base/tsa_model.py:379: ValueWarning: No supported index is available. Prediction results will be given with an integer index beginning at `start`.\n",
            "  ValueWarning)\n"
          ],
          "name": "stderr"
        }
      ]
    },
    {
      "cell_type": "code",
      "metadata": {
        "colab": {
          "base_uri": "https://localhost:8080/",
          "height": 294
        },
        "id": "1_0tGrK2yS2V",
        "outputId": "f6918015-1c11-4767-ffb6-d83009c5de5b"
      },
      "source": [
        "pred.plot(legend=True)\n",
        "test['yearly_return'].plot(legend=True)"
      ],
      "execution_count": null,
      "outputs": [
        {
          "output_type": "execute_result",
          "data": {
            "text/plain": [
              "<matplotlib.axes._subplots.AxesSubplot at 0x7f0a795e3d10>"
            ]
          },
          "metadata": {
            "tags": []
          },
          "execution_count": 170
        },
        {
          "output_type": "display_data",
          "data": {
            "image/png": "[encoded data removed]",
            "text/plain": [
              "<Figure size 432x288 with 1 Axes>"
            ]
          },
          "metadata": {
            "tags": [],
            "needs_background": "light"
          }
        }
      ]
    }
  ]
}